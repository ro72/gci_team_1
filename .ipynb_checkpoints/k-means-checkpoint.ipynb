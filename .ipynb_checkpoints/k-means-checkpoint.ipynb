{
 "cells": [
  {
   "cell_type": "code",
   "execution_count": 1,
   "metadata": {
    "collapsed": true
   },
   "outputs": [],
   "source": [
    "import numpy as np\n",
    "import pandas as pd\n",
    "import matplotlib\n",
    "import json\n",
    "from sklearn.cluster import KMeans\n",
    "%matplotlib inline"
   ]
  },
  {
   "cell_type": "code",
   "execution_count": 3,
   "metadata": {
    "collapsed": false
   },
   "outputs": [],
   "source": [
    "df_appliances = pd.read_csv('credit_card/appliances.csv')\n",
    "df_department = pd.read_csv('credit_card/departmentstore.csv')\n",
    "df_drug = pd.read_csv('credit_card/drug.csv')\n",
    "df_fashion = pd.read_csv('credit_card/fashion.csv')\n",
    "df_flower = pd.read_csv('credit_card/flowershop.csv')\n",
    "df_food = pd.read_csv('credit_card/food.csv')\n",
    "df_home = pd.read_csv('credit_card/home_goods.csv')\n",
    "df_luxury = pd.read_csv('credit_card/luxury.csv')\n",
    "df_reuse = pd.read_csv('credit_card/reuse.csv')\n",
    "df_sport = pd.read_csv('credit_card/sport.csv')\n",
    "df_super = pd.read_csv('credit_card/supermarket.csv')"
   ]
  },
  {
   "cell_type": "code",
   "execution_count": 4,
   "metadata": {
    "collapsed": false
   },
   "outputs": [
    {
     "data": {
      "text/html": [
       "<div>\n",
       "<style>\n",
       "    .dataframe thead tr:only-child th {\n",
       "        text-align: right;\n",
       "    }\n",
       "\n",
       "    .dataframe thead th {\n",
       "        text-align: left;\n",
       "    }\n",
       "\n",
       "    .dataframe tbody tr th {\n",
       "        vertical-align: top;\n",
       "    }\n",
       "</style>\n",
       "<table border=\"1\" class=\"dataframe\">\n",
       "  <thead>\n",
       "    <tr style=\"text-align: right;\">\n",
       "      <th></th>\n",
       "      <th>month</th>\n",
       "      <th>アメリカ合衆国</th>\n",
       "      <th>オーストラリア</th>\n",
       "      <th>台湾</th>\n",
       "      <th>中華人民共和国</th>\n",
       "      <th>タイ</th>\n",
       "      <th>香港</th>\n",
       "      <th>大韓民国</th>\n",
       "      <th>シンガポール</th>\n",
       "    </tr>\n",
       "  </thead>\n",
       "  <tbody>\n",
       "    <tr>\n",
       "      <th>0</th>\n",
       "      <td>12-Aug</td>\n",
       "      <td>49171922</td>\n",
       "      <td>26340071</td>\n",
       "      <td>94590771</td>\n",
       "      <td>156240871</td>\n",
       "      <td>60798441</td>\n",
       "      <td>66252524</td>\n",
       "      <td>83092041</td>\n",
       "      <td>27492894</td>\n",
       "    </tr>\n",
       "    <tr>\n",
       "      <th>1</th>\n",
       "      <td>12-Sep</td>\n",
       "      <td>55425553</td>\n",
       "      <td>36140241</td>\n",
       "      <td>97834288</td>\n",
       "      <td>84001724</td>\n",
       "      <td>88439712</td>\n",
       "      <td>75978641</td>\n",
       "      <td>87631229</td>\n",
       "      <td>29091741</td>\n",
       "    </tr>\n",
       "    <tr>\n",
       "      <th>2</th>\n",
       "      <td>12-Oct</td>\n",
       "      <td>56629758</td>\n",
       "      <td>40049371</td>\n",
       "      <td>103367812</td>\n",
       "      <td>69291641</td>\n",
       "      <td>157488912</td>\n",
       "      <td>78040706</td>\n",
       "      <td>93480094</td>\n",
       "      <td>53054012</td>\n",
       "    </tr>\n",
       "    <tr>\n",
       "      <th>3</th>\n",
       "      <td>12-Nov</td>\n",
       "      <td>47490087</td>\n",
       "      <td>41192971</td>\n",
       "      <td>163181941</td>\n",
       "      <td>59520106</td>\n",
       "      <td>116607376</td>\n",
       "      <td>82751224</td>\n",
       "      <td>121145265</td>\n",
       "      <td>63097565</td>\n",
       "    </tr>\n",
       "    <tr>\n",
       "      <th>4</th>\n",
       "      <td>12-Dec</td>\n",
       "      <td>63525540</td>\n",
       "      <td>58901488</td>\n",
       "      <td>155653129</td>\n",
       "      <td>92870059</td>\n",
       "      <td>177378524</td>\n",
       "      <td>120890276</td>\n",
       "      <td>122495218</td>\n",
       "      <td>99181071</td>\n",
       "    </tr>\n",
       "  </tbody>\n",
       "</table>\n",
       "</div>"
      ],
      "text/plain": [
       "    month   アメリカ合衆国   オーストラリア         台湾    中華人民共和国         タイ         香港  \\\n",
       "0  12-Aug  49171922  26340071   94590771  156240871   60798441   66252524   \n",
       "1  12-Sep  55425553  36140241   97834288   84001724   88439712   75978641   \n",
       "2  12-Oct  56629758  40049371  103367812   69291641  157488912   78040706   \n",
       "3  12-Nov  47490087  41192971  163181941   59520106  116607376   82751224   \n",
       "4  12-Dec  63525540  58901488  155653129   92870059  177378524  120890276   \n",
       "\n",
       "        大韓民国    シンガポール  \n",
       "0   83092041  27492894  \n",
       "1   87631229  29091741  \n",
       "2   93480094  53054012  \n",
       "3  121145265  63097565  \n",
       "4  122495218  99181071  "
      ]
     },
     "execution_count": 4,
     "metadata": {},
     "output_type": "execute_result"
    }
   ],
   "source": [
    "df_appliances.head()"
   ]
  },
  {
   "cell_type": "code",
   "execution_count": 5,
   "metadata": {
    "collapsed": false
   },
   "outputs": [
    {
     "data": {
      "text/plain": [
       "array([  94590771,   97834288,  103367812,  163181941,  155653129,\n",
       "        190887224,  295630618,  367051488,  508157906,  573145682,\n",
       "        495434847,  402260500,  298226471,  390051118,  325691547,\n",
       "        533125241,  897358412,  794930553,  621988273,  641420173,\n",
       "        619585040,  534832173,  531404300,  594699233,  501712940,\n",
       "        554407933,  997238873, 1466322947, 1547160717, 1471211833,\n",
       "       1785200453, 1768208120, 2465563487, 2375592347, 3339225227,\n",
       "       3240584260, 2955352420, 2436377055, 2821861700, 2740272370,\n",
       "       2568158907, 2508766838, 2409342010, 1590571234])"
      ]
     },
     "execution_count": 5,
     "metadata": {},
     "output_type": "execute_result"
    }
   ],
   "source": [
    "df_appliances['台湾'].values"
   ]
  },
  {
   "cell_type": "code",
   "execution_count": 6,
   "metadata": {
    "collapsed": true
   },
   "outputs": [],
   "source": [
    "length = len(df_appliances['台湾'].values)"
   ]
  },
  {
   "cell_type": "code",
   "execution_count": 7,
   "metadata": {
    "collapsed": true
   },
   "outputs": [],
   "source": [
    "# 1月あたり旅行者\n",
    "tourlist_dic={}\n",
    "for year in range(2012,2017):\n",
    "    with open(\"tourists_number/FY%d\"%year,\"r\",encoding=\"utf-8\") as f:\n",
    "        dic = json.load(f)\n",
    "    for countryData in dic[\"result\"][\"changes\"]:\n",
    "        country = countryData[\"countryName\"]\n",
    "        for i in range(len(countryData[\"data\"])):\n",
    "            num_qt = countryData[\"data\"][i]\n",
    "            if num_qt[\"year\"] == year:\n",
    "                if year == 2012:\n",
    "                    if num_qt[\"quarter\"] > 2:\n",
    "                        if num_qt[\"quarter\"] == 3:\n",
    "                            iteration = 2\n",
    "                        elif num_qt[\"quarter\"] == 4:\n",
    "                            iteration = 3\n",
    "                        num_m = num_qt[\"value\"]/3\n",
    "                        for i in range(iteration):\n",
    "                            try:\n",
    "                                tourlist_dic[country].append(num_m)\n",
    "                            except:\n",
    "                                tourlist_dic[country] = [num_m]\n",
    "                elif year == 2016:\n",
    "                    if num_qt[\"quarter\"] == 1:\n",
    "                        num_m = num_qt[\"value\"]/3\n",
    "                        for i in range(3):\n",
    "                            try:\n",
    "                                tourlist_dic[country].append(num_m)\n",
    "                            except:\n",
    "                                tourlist_dic[country] = [num_m]\n",
    "                else:\n",
    "                    num_m = num_qt[\"value\"]/3\n",
    "                    for i in range(3):\n",
    "                        try:\n",
    "                            tourlist_dic[country].append(num_m)\n",
    "                        except:\n",
    "                            tourlist_dic[country] = [num_m]\n",
    "for k,v in tourlist_dic.items():\n",
    "    tourlist_dic[k] = np.array(v)\n"
   ]
  },
  {
   "cell_type": "code",
   "execution_count": 8,
   "metadata": {
    "collapsed": false
   },
   "outputs": [
    {
     "data": {
      "text/plain": [
       "array([  60282.        ,   60282.        ,   47251.        ,\n",
       "         47251.        ,   47251.        ,   50771.66666667,\n",
       "         50771.66666667,   50771.66666667,   75715.33333333,\n",
       "         75715.33333333,   75715.33333333,   85122.66666667,\n",
       "         85122.66666667,   85122.66666667,   64330.        ,\n",
       "         64330.        ,   64330.        ,   79218.66666667,\n",
       "         79218.66666667,   79218.66666667,  100437.66666667,\n",
       "        100437.66666667,  100437.66666667,  100593.66666667,\n",
       "        100593.66666667,  100593.66666667,   87058.33333333,\n",
       "         87058.33333333,   87058.33333333,  102430.        ,\n",
       "        102430.        ,  102430.        ,  124405.33333333,\n",
       "        124405.33333333,  124405.33333333,  118414.33333333,\n",
       "        118414.33333333,  118414.33333333,  100467.66666667,\n",
       "        100467.66666667,  100467.66666667,  121293.        ,\n",
       "        121293.        ,  121293.        ])"
      ]
     },
     "execution_count": 8,
     "metadata": {},
     "output_type": "execute_result"
    }
   ],
   "source": [
    "tourlist_dic['台湾']"
   ]
  },
  {
   "cell_type": "code",
   "execution_count": 9,
   "metadata": {
    "collapsed": true
   },
   "outputs": [],
   "source": [
    "c_list = ['アメリカ合衆国', 'オーストラリア', '中華人民共和国', '台湾', '大韓民国', '香港', 'タイ', 'シンガポール']\n",
    "appliances_sum = np.zeros(length)\n",
    "tourist_sum = np.zeros(length)\n",
    "for c in c_list:\n",
    "    appliances_sum += df_appliances[c].values\n",
    "    tourist_sum += tourlist_dic[c]"
   ]
  },
  {
   "cell_type": "code",
   "execution_count": 10,
   "metadata": {
    "collapsed": false
   },
   "outputs": [
    {
     "data": {
      "text/plain": [
       "array([  5.63979535e+08,   5.54543129e+08,   6.51402306e+08,\n",
       "         6.94986535e+08,   8.90895305e+08,   9.05163197e+08,\n",
       "         1.13848683e+09,   1.52224248e+09,   1.99802632e+09,\n",
       "         1.88549215e+09,   1.59372622e+09,   1.62010248e+09,\n",
       "         1.30164385e+09,   1.38817901e+09,   1.47591447e+09,\n",
       "         1.72749464e+09,   2.23829160e+09,   2.22276024e+09,\n",
       "         1.95632987e+09,   2.31276091e+09,   2.67365282e+09,\n",
       "         2.09661896e+09,   1.85742532e+09,   2.39739505e+09,\n",
       "         2.08351000e+09,   2.44367221e+09,   3.69483550e+09,\n",
       "         4.66420544e+09,   5.22091481e+09,   4.74479193e+09,\n",
       "         6.45151465e+09,   6.95242782e+09,   9.23295603e+09,\n",
       "         7.04673065e+09,   7.54826371e+09,   9.07512082e+09,\n",
       "         8.39353595e+09,   5.69655496e+09,   7.56515770e+09,\n",
       "         7.00856920e+09,   6.61320618e+09,   6.00522637e+09,\n",
       "         5.71504977e+09,   1.71154261e+10])"
      ]
     },
     "execution_count": 10,
     "metadata": {},
     "output_type": "execute_result"
    }
   ],
   "source": [
    "appliances_sum"
   ]
  },
  {
   "cell_type": "code",
   "execution_count": null,
   "metadata": {
    "collapsed": true
   },
   "outputs": [],
   "source": []
  }
 ],
 "metadata": {
  "kernelspec": {
   "display_name": "Python 3",
   "language": "python",
   "name": "python3"
  },
  "language_info": {
   "codemirror_mode": {
    "name": "ipython",
    "version": 3
   },
   "file_extension": ".py",
   "mimetype": "text/x-python",
   "name": "python",
   "nbconvert_exporter": "python",
   "pygments_lexer": "ipython3",
   "version": "3.6.0"
  }
 },
 "nbformat": 4,
 "nbformat_minor": 2
}
