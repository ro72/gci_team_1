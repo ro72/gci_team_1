{
 "cells": [
  {
   "cell_type": "code",
   "execution_count": 1,
   "metadata": {
    "collapsed": true
   },
   "outputs": [],
   "source": [
    "import numpy as np\n",
    "import pandas as pd\n",
    "import matplotlib\n",
    "import json\n",
    "from sklearn.cluster import KMeans\n",
    "from sklearn.decomposition import PCA\n",
    "%matplotlib inline"
   ]
  },
  {
   "cell_type": "code",
   "execution_count": 2,
   "metadata": {
    "collapsed": false
   },
   "outputs": [],
   "source": [
    "df_appliances = pd.read_csv('credit_card/appliances.csv',index_col=\"month\")\n",
    "df_department = pd.read_csv('credit_card/departmentstore.csv',index_col=\"month\")\n",
    "df_drug = pd.read_csv('credit_card/drug.csv',index_col=\"month\")\n",
    "df_fashion = pd.read_csv('credit_card/fashion.csv',index_col=\"month\")\n",
    "df_flower = pd.read_csv('credit_card/flowershop.csv',index_col=\"month\")\n",
    "df_food = pd.read_csv('credit_card/food.csv',index_col=\"month\")\n",
    "df_home = pd.read_csv('credit_card/home_goods.csv',index_col=\"month\")\n",
    "df_luxury = pd.read_csv('credit_card/luxury.csv',index_col=\"month\")\n",
    "df_reuse = pd.read_csv('credit_card/reuse.csv',index_col=\"month\")\n",
    "df_sport = pd.read_csv('credit_card/sport.csv',index_col=\"month\")\n",
    "df_super = pd.read_csv('credit_card/supermarket.csv',index_col=\"month\")"
   ]
  },
  {
   "cell_type": "code",
   "execution_count": 17,
   "metadata": {
    "collapsed": false
   },
   "outputs": [
    {
     "data": {
      "text/html": [
       "<div>\n",
       "<style>\n",
       "    .dataframe thead tr:only-child th {\n",
       "        text-align: right;\n",
       "    }\n",
       "\n",
       "    .dataframe thead th {\n",
       "        text-align: left;\n",
       "    }\n",
       "\n",
       "    .dataframe tbody tr th {\n",
       "        vertical-align: top;\n",
       "    }\n",
       "</style>\n",
       "<table border=\"1\" class=\"dataframe\">\n",
       "  <thead>\n",
       "    <tr style=\"text-align: right;\">\n",
       "      <th></th>\n",
       "      <th>アメリカ合衆国</th>\n",
       "      <th>オーストラリア</th>\n",
       "      <th>中華人民共和国</th>\n",
       "      <th>大韓民国</th>\n",
       "      <th>台湾</th>\n",
       "      <th>香港</th>\n",
       "      <th>タイ</th>\n",
       "      <th>シンガポール</th>\n",
       "    </tr>\n",
       "    <tr>\n",
       "      <th>month</th>\n",
       "      <th></th>\n",
       "      <th></th>\n",
       "      <th></th>\n",
       "      <th></th>\n",
       "      <th></th>\n",
       "      <th></th>\n",
       "      <th></th>\n",
       "      <th></th>\n",
       "    </tr>\n",
       "  </thead>\n",
       "  <tbody>\n",
       "    <tr>\n",
       "      <th>Aug-12</th>\n",
       "      <td>450977581</td>\n",
       "      <td>171900635</td>\n",
       "      <td>967068187</td>\n",
       "      <td>907359112</td>\n",
       "      <td>1024873519</td>\n",
       "      <td>785449686</td>\n",
       "      <td>665674228</td>\n",
       "      <td>313876677</td>\n",
       "    </tr>\n",
       "    <tr>\n",
       "      <th>Sep-12</th>\n",
       "      <td>482890702</td>\n",
       "      <td>232713382</td>\n",
       "      <td>629385071</td>\n",
       "      <td>1003537082</td>\n",
       "      <td>972290417</td>\n",
       "      <td>721586084</td>\n",
       "      <td>732925900</td>\n",
       "      <td>339416355</td>\n",
       "    </tr>\n",
       "    <tr>\n",
       "      <th>Oct-12</th>\n",
       "      <td>573490536</td>\n",
       "      <td>246991846</td>\n",
       "      <td>619997765</td>\n",
       "      <td>1200882541</td>\n",
       "      <td>1047116686</td>\n",
       "      <td>911434209</td>\n",
       "      <td>1219434142</td>\n",
       "      <td>410577940</td>\n",
       "    </tr>\n",
       "    <tr>\n",
       "      <th>Nov-12</th>\n",
       "      <td>554981840</td>\n",
       "      <td>216140159</td>\n",
       "      <td>595937535</td>\n",
       "      <td>1213589600</td>\n",
       "      <td>1205606620</td>\n",
       "      <td>972991674</td>\n",
       "      <td>826646261</td>\n",
       "      <td>589694787</td>\n",
       "    </tr>\n",
       "    <tr>\n",
       "      <th>Dec-12</th>\n",
       "      <td>688458547</td>\n",
       "      <td>333476482</td>\n",
       "      <td>760322171</td>\n",
       "      <td>1292732394</td>\n",
       "      <td>1259938330</td>\n",
       "      <td>1123123556</td>\n",
       "      <td>1344977827</td>\n",
       "      <td>885657320</td>\n",
       "    </tr>\n",
       "  </tbody>\n",
       "</table>\n",
       "</div>"
      ],
      "text/plain": [
       "          アメリカ合衆国    オーストラリア    中華人民共和国        大韓民国          台湾          香港  \\\n",
       "month                                                                         \n",
       "Aug-12  450977581  171900635  967068187   907359112  1024873519   785449686   \n",
       "Sep-12  482890702  232713382  629385071  1003537082   972290417   721586084   \n",
       "Oct-12  573490536  246991846  619997765  1200882541  1047116686   911434209   \n",
       "Nov-12  554981840  216140159  595937535  1213589600  1205606620   972991674   \n",
       "Dec-12  688458547  333476482  760322171  1292732394  1259938330  1123123556   \n",
       "\n",
       "                タイ     シンガポール  \n",
       "month                          \n",
       "Aug-12   665674228  313876677  \n",
       "Sep-12   732925900  339416355  \n",
       "Oct-12  1219434142  410577940  \n",
       "Nov-12   826646261  589694787  \n",
       "Dec-12  1344977827  885657320  "
      ]
     },
     "execution_count": 17,
     "metadata": {},
     "output_type": "execute_result"
    }
   ],
   "source": [
    "df_appliances.head()"
   ]
  },
  {
   "cell_type": "code",
   "execution_count": 3,
   "metadata": {
    "collapsed": false
   },
   "outputs": [],
   "source": [
    "df_appliances = pd.read_csv('credit_card/appliances.csv')\n",
    "df_department = pd.read_csv('credit_card/departmentstore.csv')\n",
    "df_drug = pd.read_csv('credit_card/drug.csv')\n",
    "df_fashion = pd.read_csv('credit_card/fashion.csv')\n",
    "df_flower = pd.read_csv('credit_card/flowershop.csv')\n",
    "df_food = pd.read_csv('credit_card/food.csv')\n",
    "df_home = pd.read_csv('credit_card/home_goods.csv')\n",
    "df_luxury = pd.read_csv('credit_card/luxury.csv')\n",
    "df_reuse = pd.read_csv('credit_card/reuse.csv')\n",
    "df_sport = pd.read_csv('credit_card/sport.csv')\n",
    "df_super = pd.read_csv('credit_card/supermarket.csv')"
   ]
  },
  {
   "cell_type": "code",
   "execution_count": 4,
   "metadata": {
    "collapsed": false,
    "scrolled": true
   },
   "outputs": [
    {
     "data": {
      "text/html": [
       "<div>\n",
       "<style>\n",
       "    .dataframe thead tr:only-child th {\n",
       "        text-align: right;\n",
       "    }\n",
       "\n",
       "    .dataframe thead th {\n",
       "        text-align: left;\n",
       "    }\n",
       "\n",
       "    .dataframe tbody tr th {\n",
       "        vertical-align: top;\n",
       "    }\n",
       "</style>\n",
       "<table border=\"1\" class=\"dataframe\">\n",
       "  <thead>\n",
       "    <tr style=\"text-align: right;\">\n",
       "      <th></th>\n",
       "      <th>month</th>\n",
       "      <th>アメリカ合衆国</th>\n",
       "      <th>オーストラリア</th>\n",
       "      <th>台湾</th>\n",
       "      <th>中華人民共和国</th>\n",
       "      <th>タイ</th>\n",
       "      <th>香港</th>\n",
       "      <th>大韓民国</th>\n",
       "      <th>シンガポール</th>\n",
       "    </tr>\n",
       "  </thead>\n",
       "  <tbody>\n",
       "    <tr>\n",
       "      <th>0</th>\n",
       "      <td>12-Aug</td>\n",
       "      <td>49171922</td>\n",
       "      <td>26340071</td>\n",
       "      <td>94590771</td>\n",
       "      <td>156240871</td>\n",
       "      <td>60798441</td>\n",
       "      <td>66252524</td>\n",
       "      <td>83092041</td>\n",
       "      <td>27492894</td>\n",
       "    </tr>\n",
       "    <tr>\n",
       "      <th>1</th>\n",
       "      <td>12-Sep</td>\n",
       "      <td>55425553</td>\n",
       "      <td>36140241</td>\n",
       "      <td>97834288</td>\n",
       "      <td>84001724</td>\n",
       "      <td>88439712</td>\n",
       "      <td>75978641</td>\n",
       "      <td>87631229</td>\n",
       "      <td>29091741</td>\n",
       "    </tr>\n",
       "    <tr>\n",
       "      <th>2</th>\n",
       "      <td>12-Oct</td>\n",
       "      <td>56629758</td>\n",
       "      <td>40049371</td>\n",
       "      <td>103367812</td>\n",
       "      <td>69291641</td>\n",
       "      <td>157488912</td>\n",
       "      <td>78040706</td>\n",
       "      <td>93480094</td>\n",
       "      <td>53054012</td>\n",
       "    </tr>\n",
       "    <tr>\n",
       "      <th>3</th>\n",
       "      <td>12-Nov</td>\n",
       "      <td>47490087</td>\n",
       "      <td>41192971</td>\n",
       "      <td>163181941</td>\n",
       "      <td>59520106</td>\n",
       "      <td>116607376</td>\n",
       "      <td>82751224</td>\n",
       "      <td>121145265</td>\n",
       "      <td>63097565</td>\n",
       "    </tr>\n",
       "    <tr>\n",
       "      <th>4</th>\n",
       "      <td>12-Dec</td>\n",
       "      <td>63525540</td>\n",
       "      <td>58901488</td>\n",
       "      <td>155653129</td>\n",
       "      <td>92870059</td>\n",
       "      <td>177378524</td>\n",
       "      <td>120890276</td>\n",
       "      <td>122495218</td>\n",
       "      <td>99181071</td>\n",
       "    </tr>\n",
       "  </tbody>\n",
       "</table>\n",
       "</div>"
      ],
      "text/plain": [
       "    month   アメリカ合衆国   オーストラリア         台湾    中華人民共和国         タイ         香港  \\\n",
       "0  12-Aug  49171922  26340071   94590771  156240871   60798441   66252524   \n",
       "1  12-Sep  55425553  36140241   97834288   84001724   88439712   75978641   \n",
       "2  12-Oct  56629758  40049371  103367812   69291641  157488912   78040706   \n",
       "3  12-Nov  47490087  41192971  163181941   59520106  116607376   82751224   \n",
       "4  12-Dec  63525540  58901488  155653129   92870059  177378524  120890276   \n",
       "\n",
       "        大韓民国    シンガポール  \n",
       "0   83092041  27492894  \n",
       "1   87631229  29091741  \n",
       "2   93480094  53054012  \n",
       "3  121145265  63097565  \n",
       "4  122495218  99181071  "
      ]
     },
     "execution_count": 4,
     "metadata": {},
     "output_type": "execute_result"
    }
   ],
   "source": [
    "df_appliances.head()"
   ]
  },
  {
   "cell_type": "code",
   "execution_count": 12,
   "metadata": {
    "collapsed": false
   },
   "outputs": [
    {
     "data": {
      "text/html": [
       "<div>\n",
       "<style>\n",
       "    .dataframe thead tr:only-child th {\n",
       "        text-align: right;\n",
       "    }\n",
       "\n",
       "    .dataframe thead th {\n",
       "        text-align: left;\n",
       "    }\n",
       "\n",
       "    .dataframe tbody tr th {\n",
       "        vertical-align: top;\n",
       "    }\n",
       "</style>\n",
       "<table border=\"1\" class=\"dataframe\">\n",
       "  <thead>\n",
       "    <tr style=\"text-align: right;\">\n",
       "      <th></th>\n",
       "      <th>month</th>\n",
       "      <th>アメリカ合衆国</th>\n",
       "      <th>オーストラリア</th>\n",
       "      <th>中華人民共和国</th>\n",
       "      <th>大韓民国</th>\n",
       "      <th>台湾</th>\n",
       "      <th>香港</th>\n",
       "      <th>タイ</th>\n",
       "      <th>シンガポール</th>\n",
       "    </tr>\n",
       "  </thead>\n",
       "  <tbody>\n",
       "    <tr>\n",
       "      <th>0</th>\n",
       "      <td>Aug-12</td>\n",
       "      <td>450977581</td>\n",
       "      <td>171900635</td>\n",
       "      <td>967068187</td>\n",
       "      <td>907359112</td>\n",
       "      <td>1024873519</td>\n",
       "      <td>785449686</td>\n",
       "      <td>665674228</td>\n",
       "      <td>313876677</td>\n",
       "    </tr>\n",
       "    <tr>\n",
       "      <th>1</th>\n",
       "      <td>Sep-12</td>\n",
       "      <td>482890702</td>\n",
       "      <td>232713382</td>\n",
       "      <td>629385071</td>\n",
       "      <td>1003537082</td>\n",
       "      <td>972290417</td>\n",
       "      <td>721586084</td>\n",
       "      <td>732925900</td>\n",
       "      <td>339416355</td>\n",
       "    </tr>\n",
       "    <tr>\n",
       "      <th>2</th>\n",
       "      <td>Oct-12</td>\n",
       "      <td>573490536</td>\n",
       "      <td>246991846</td>\n",
       "      <td>619997765</td>\n",
       "      <td>1200882541</td>\n",
       "      <td>1047116686</td>\n",
       "      <td>911434209</td>\n",
       "      <td>1219434142</td>\n",
       "      <td>410577940</td>\n",
       "    </tr>\n",
       "    <tr>\n",
       "      <th>3</th>\n",
       "      <td>Nov-12</td>\n",
       "      <td>554981840</td>\n",
       "      <td>216140159</td>\n",
       "      <td>595937535</td>\n",
       "      <td>1213589600</td>\n",
       "      <td>1205606620</td>\n",
       "      <td>972991674</td>\n",
       "      <td>826646261</td>\n",
       "      <td>589694787</td>\n",
       "    </tr>\n",
       "    <tr>\n",
       "      <th>4</th>\n",
       "      <td>Dec-12</td>\n",
       "      <td>688458547</td>\n",
       "      <td>333476482</td>\n",
       "      <td>760322171</td>\n",
       "      <td>1292732394</td>\n",
       "      <td>1259938330</td>\n",
       "      <td>1123123556</td>\n",
       "      <td>1344977827</td>\n",
       "      <td>885657320</td>\n",
       "    </tr>\n",
       "  </tbody>\n",
       "</table>\n",
       "</div>"
      ],
      "text/plain": [
       "    month    アメリカ合衆国    オーストラリア    中華人民共和国        大韓民国          台湾  \\\n",
       "0  Aug-12  450977581  171900635  967068187   907359112  1024873519   \n",
       "1  Sep-12  482890702  232713382  629385071  1003537082   972290417   \n",
       "2  Oct-12  573490536  246991846  619997765  1200882541  1047116686   \n",
       "3  Nov-12  554981840  216140159  595937535  1213589600  1205606620   \n",
       "4  Dec-12  688458547  333476482  760322171  1292732394  1259938330   \n",
       "\n",
       "           香港          タイ     シンガポール  \n",
       "0   785449686   665674228  313876677  \n",
       "1   721586084   732925900  339416355  \n",
       "2   911434209  1219434142  410577940  \n",
       "3   972991674   826646261  589694787  \n",
       "4  1123123556  1344977827  885657320  "
      ]
     },
     "execution_count": 12,
     "metadata": {},
     "output_type": "execute_result"
    }
   ],
   "source": [
    "df_department.head()"
   ]
  },
  {
   "cell_type": "code",
   "execution_count": 10,
   "metadata": {
    "collapsed": false
   },
   "outputs": [
    {
     "data": {
      "text/html": [
       "<div>\n",
       "<style>\n",
       "    .dataframe thead tr:only-child th {\n",
       "        text-align: right;\n",
       "    }\n",
       "\n",
       "    .dataframe thead th {\n",
       "        text-align: left;\n",
       "    }\n",
       "\n",
       "    .dataframe tbody tr th {\n",
       "        vertical-align: top;\n",
       "    }\n",
       "</style>\n",
       "<table border=\"1\" class=\"dataframe\">\n",
       "  <thead>\n",
       "    <tr style=\"text-align: right;\">\n",
       "      <th></th>\n",
       "      <th>month</th>\n",
       "      <th>アメリカ合衆国_x</th>\n",
       "      <th>オーストラリア_x</th>\n",
       "      <th>台湾_x</th>\n",
       "      <th>中華人民共和国_x</th>\n",
       "      <th>タイ_x</th>\n",
       "      <th>香港_x</th>\n",
       "      <th>大韓民国_x</th>\n",
       "      <th>シンガポール_x</th>\n",
       "      <th>アメリカ合衆国_y</th>\n",
       "      <th>オーストラリア_y</th>\n",
       "      <th>中華人民共和国_y</th>\n",
       "      <th>大韓民国_y</th>\n",
       "      <th>台湾_y</th>\n",
       "      <th>香港_y</th>\n",
       "      <th>タイ_y</th>\n",
       "      <th>シンガポール_y</th>\n",
       "    </tr>\n",
       "  </thead>\n",
       "  <tbody>\n",
       "  </tbody>\n",
       "</table>\n",
       "</div>"
      ],
      "text/plain": [
       "Empty DataFrame\n",
       "Columns: [month, アメリカ合衆国_x, オーストラリア_x, 台湾_x, 中華人民共和国_x, タイ_x, 香港_x, 大韓民国_x, シンガポール_x, アメリカ合衆国_y, オーストラリア_y, 中華人民共和国_y, 大韓民国_y, 台湾_y, 香港_y, タイ_y, シンガポール_y]\n",
       "Index: []"
      ]
     },
     "execution_count": 10,
     "metadata": {},
     "output_type": "execute_result"
    }
   ],
   "source": [
    "pd.merge(df_appliances, df_department,on=\"month\")"
   ]
  },
  {
   "cell_type": "code",
   "execution_count": 4,
   "metadata": {
    "collapsed": false,
    "scrolled": true
   },
   "outputs": [
    {
     "data": {
      "text/plain": [
       "array([  94590771,   97834288,  103367812,  163181941,  155653129,\n",
       "        190887224,  295630618,  367051488,  508157906,  573145682,\n",
       "        495434847,  402260500,  298226471,  390051118,  325691547,\n",
       "        533125241,  897358412,  794930553,  621988273,  641420173,\n",
       "        619585040,  534832173,  531404300,  594699233,  501712940,\n",
       "        554407933,  997238873, 1466322947, 1547160717, 1471211833,\n",
       "       1785200453, 1768208120, 2465563487, 2375592347, 3339225227,\n",
       "       3240584260, 2955352420, 2436377055, 2821861700, 2740272370,\n",
       "       2568158907, 2508766838, 2409342010, 1590571234])"
      ]
     },
     "execution_count": 4,
     "metadata": {},
     "output_type": "execute_result"
    }
   ],
   "source": [
    "df_appliances['台湾'].values"
   ]
  },
  {
   "cell_type": "code",
   "execution_count": 5,
   "metadata": {
    "collapsed": false
   },
   "outputs": [
    {
     "name": "stdout",
     "output_type": "stream",
     "text": [
      "44\n"
     ]
    }
   ],
   "source": [
    "length = len(df_appliances['台湾'].values)\n",
    "print(length)"
   ]
  },
  {
   "cell_type": "code",
   "execution_count": 6,
   "metadata": {
    "collapsed": true
   },
   "outputs": [],
   "source": [
    "usa_df = pd.DataFrame()\n",
    "usa_df[\"appliance\"] = df_appliances[\"アメリカ合衆国\"]\n",
    "usa_df[\"department\"] = df_department[\"アメリカ合衆国\"]\n",
    "usa_df[\"drug\"] = df_drug[\"アメリカ合衆国\"]\n",
    "usa_df[\"fashion\"] = df_fashion[\"アメリカ合衆国\"]\n",
    "usa_df[\"flower\"] = df_flower[\"アメリカ合衆国\"]\n",
    "usa_df[\"food\"] = df_food[\"アメリカ合衆国\"]\n",
    "usa_df[\"home\"] = df_home[\"アメリカ合衆国\"]\n",
    "usa_df[\"luxury\"] = df_luxury[\"アメリカ合衆国\"]\n",
    "usa_df[\"reuse\"] = df_reuse[\"アメリカ合衆国\"]\n",
    "usa_df[\"sport\"] = df_sport[\"アメリカ合衆国\"]\n",
    "usa_df[\"super\"] = df_super[\"アメリカ合衆国\"]"
   ]
  },
  {
   "cell_type": "code",
   "execution_count": 7,
   "metadata": {
    "collapsed": false
   },
   "outputs": [
    {
     "data": {
      "text/html": [
       "<div>\n",
       "<style>\n",
       "    .dataframe thead tr:only-child th {\n",
       "        text-align: right;\n",
       "    }\n",
       "\n",
       "    .dataframe thead th {\n",
       "        text-align: left;\n",
       "    }\n",
       "\n",
       "    .dataframe tbody tr th {\n",
       "        vertical-align: top;\n",
       "    }\n",
       "</style>\n",
       "<table border=\"1\" class=\"dataframe\">\n",
       "  <thead>\n",
       "    <tr style=\"text-align: right;\">\n",
       "      <th></th>\n",
       "      <th>appliance</th>\n",
       "      <th>department</th>\n",
       "      <th>drug</th>\n",
       "      <th>fashion</th>\n",
       "      <th>flower</th>\n",
       "      <th>food</th>\n",
       "      <th>home</th>\n",
       "      <th>luxury</th>\n",
       "      <th>reuse</th>\n",
       "      <th>sport</th>\n",
       "      <th>super</th>\n",
       "    </tr>\n",
       "    <tr>\n",
       "      <th>month</th>\n",
       "      <th></th>\n",
       "      <th></th>\n",
       "      <th></th>\n",
       "      <th></th>\n",
       "      <th></th>\n",
       "      <th></th>\n",
       "      <th></th>\n",
       "      <th></th>\n",
       "      <th></th>\n",
       "      <th></th>\n",
       "      <th></th>\n",
       "    </tr>\n",
       "  </thead>\n",
       "  <tbody>\n",
       "    <tr>\n",
       "      <th>12-Aug</th>\n",
       "      <td>49171922</td>\n",
       "      <td>NaN</td>\n",
       "      <td>NaN</td>\n",
       "      <td>NaN</td>\n",
       "      <td>NaN</td>\n",
       "      <td>NaN</td>\n",
       "      <td>NaN</td>\n",
       "      <td>NaN</td>\n",
       "      <td>NaN</td>\n",
       "      <td>NaN</td>\n",
       "      <td>NaN</td>\n",
       "    </tr>\n",
       "    <tr>\n",
       "      <th>12-Sep</th>\n",
       "      <td>55425553</td>\n",
       "      <td>NaN</td>\n",
       "      <td>NaN</td>\n",
       "      <td>NaN</td>\n",
       "      <td>NaN</td>\n",
       "      <td>NaN</td>\n",
       "      <td>NaN</td>\n",
       "      <td>NaN</td>\n",
       "      <td>NaN</td>\n",
       "      <td>NaN</td>\n",
       "      <td>NaN</td>\n",
       "    </tr>\n",
       "    <tr>\n",
       "      <th>12-Oct</th>\n",
       "      <td>56629758</td>\n",
       "      <td>NaN</td>\n",
       "      <td>NaN</td>\n",
       "      <td>NaN</td>\n",
       "      <td>NaN</td>\n",
       "      <td>NaN</td>\n",
       "      <td>NaN</td>\n",
       "      <td>NaN</td>\n",
       "      <td>NaN</td>\n",
       "      <td>NaN</td>\n",
       "      <td>NaN</td>\n",
       "    </tr>\n",
       "    <tr>\n",
       "      <th>12-Nov</th>\n",
       "      <td>47490087</td>\n",
       "      <td>NaN</td>\n",
       "      <td>NaN</td>\n",
       "      <td>NaN</td>\n",
       "      <td>NaN</td>\n",
       "      <td>NaN</td>\n",
       "      <td>NaN</td>\n",
       "      <td>NaN</td>\n",
       "      <td>NaN</td>\n",
       "      <td>NaN</td>\n",
       "      <td>NaN</td>\n",
       "    </tr>\n",
       "    <tr>\n",
       "      <th>12-Dec</th>\n",
       "      <td>63525540</td>\n",
       "      <td>NaN</td>\n",
       "      <td>NaN</td>\n",
       "      <td>NaN</td>\n",
       "      <td>NaN</td>\n",
       "      <td>NaN</td>\n",
       "      <td>NaN</td>\n",
       "      <td>NaN</td>\n",
       "      <td>NaN</td>\n",
       "      <td>NaN</td>\n",
       "      <td>NaN</td>\n",
       "    </tr>\n",
       "  </tbody>\n",
       "</table>\n",
       "</div>"
      ],
      "text/plain": [
       "        appliance  department  drug  fashion  flower  food  home  luxury  \\\n",
       "month                                                                      \n",
       "12-Aug   49171922         NaN   NaN      NaN     NaN   NaN   NaN     NaN   \n",
       "12-Sep   55425553         NaN   NaN      NaN     NaN   NaN   NaN     NaN   \n",
       "12-Oct   56629758         NaN   NaN      NaN     NaN   NaN   NaN     NaN   \n",
       "12-Nov   47490087         NaN   NaN      NaN     NaN   NaN   NaN     NaN   \n",
       "12-Dec   63525540         NaN   NaN      NaN     NaN   NaN   NaN     NaN   \n",
       "\n",
       "        reuse  sport  super  \n",
       "month                        \n",
       "12-Aug    NaN    NaN    NaN  \n",
       "12-Sep    NaN    NaN    NaN  \n",
       "12-Oct    NaN    NaN    NaN  \n",
       "12-Nov    NaN    NaN    NaN  \n",
       "12-Dec    NaN    NaN    NaN  "
      ]
     },
     "execution_count": 7,
     "metadata": {},
     "output_type": "execute_result"
    }
   ],
   "source": [
    "usa_df.head()"
   ]
  },
  {
   "cell_type": "code",
   "execution_count": 14,
   "metadata": {
    "collapsed": true
   },
   "outputs": [],
   "source": [
    "# 1月あたり旅行者\n",
    "tourlist_dic={}\n",
    "for year in range(2012,2017):\n",
    "    with open(\"tourists_number/FY%d\"%year,\"r\",encoding=\"utf-8\") as f:\n",
    "        dic = json.load(f)\n",
    "    for countryData in dic[\"result\"][\"changes\"]:\n",
    "        country = countryData[\"countryName\"]\n",
    "        for i in range(len(countryData[\"data\"])):\n",
    "            num_qt = countryData[\"data\"][i]\n",
    "            if num_qt[\"year\"] == year:\n",
    "                if year == 2012:\n",
    "                    if num_qt[\"quarter\"] > 2:\n",
    "                        if num_qt[\"quarter\"] == 3:\n",
    "                            iteration = 2\n",
    "                        elif num_qt[\"quarter\"] == 4:\n",
    "                            iteration = 3\n",
    "                        num_m = num_qt[\"value\"]/3\n",
    "                        for i in range(iteration):\n",
    "                            try:\n",
    "                                tourlist_dic[country].append(num_m)\n",
    "                            except:\n",
    "                                tourlist_dic[country] = [num_m]\n",
    "                elif year == 2016:\n",
    "                    if num_qt[\"quarter\"] == 1:\n",
    "                        num_m = num_qt[\"value\"]/3\n",
    "                        for i in range(3):\n",
    "                            try:\n",
    "                                tourlist_dic[country].append(num_m)\n",
    "                            except:\n",
    "                                tourlist_dic[country] = [num_m]\n",
    "                else:\n",
    "                    num_m = num_qt[\"value\"]/3\n",
    "                    for i in range(3):\n",
    "                        try:\n",
    "                            tourlist_dic[country].append(num_m)\n",
    "                        except:\n",
    "                            tourlist_dic[country] = [num_m]\n",
    "for k,v in tourlist_dic.items():\n",
    "    tourlist_dic[k] = np.array(v)\n"
   ]
  },
  {
   "cell_type": "code",
   "execution_count": 17,
   "metadata": {
    "collapsed": false,
    "scrolled": false
   },
   "outputs": [],
   "source": [
    "tourlist_num = pd.DataFrame()\n",
    "c_list = ['アメリカ合衆国', 'オーストラリア', '中華人民共和国', '台湾', '大韓民国', '香港', 'タイ', 'シンガポール']\n",
    "for i in c_list:\n",
    "    tourlist_num[i] = tourlist_dic[i]"
   ]
  },
  {
   "cell_type": "code",
   "execution_count": 18,
   "metadata": {
    "collapsed": false
   },
   "outputs": [
    {
     "data": {
      "text/html": [
       "<div>\n",
       "<style>\n",
       "    .dataframe thead tr:only-child th {\n",
       "        text-align: right;\n",
       "    }\n",
       "\n",
       "    .dataframe thead th {\n",
       "        text-align: left;\n",
       "    }\n",
       "\n",
       "    .dataframe tbody tr th {\n",
       "        vertical-align: top;\n",
       "    }\n",
       "</style>\n",
       "<table border=\"1\" class=\"dataframe\">\n",
       "  <thead>\n",
       "    <tr style=\"text-align: right;\">\n",
       "      <th></th>\n",
       "      <th>アメリカ合衆国</th>\n",
       "      <th>オーストラリア</th>\n",
       "      <th>中華人民共和国</th>\n",
       "      <th>台湾</th>\n",
       "      <th>大韓民国</th>\n",
       "      <th>香港</th>\n",
       "      <th>タイ</th>\n",
       "      <th>シンガポール</th>\n",
       "    </tr>\n",
       "  </thead>\n",
       "  <tbody>\n",
       "    <tr>\n",
       "      <th>0</th>\n",
       "      <td>32372.666667</td>\n",
       "      <td>11410.666667</td>\n",
       "      <td>108908.333333</td>\n",
       "      <td>60282.0</td>\n",
       "      <td>64795.333333</td>\n",
       "      <td>22080.666667</td>\n",
       "      <td>7572.666667</td>\n",
       "      <td>5277.666667</td>\n",
       "    </tr>\n",
       "    <tr>\n",
       "      <th>1</th>\n",
       "      <td>32372.666667</td>\n",
       "      <td>11410.666667</td>\n",
       "      <td>108908.333333</td>\n",
       "      <td>60282.0</td>\n",
       "      <td>64795.333333</td>\n",
       "      <td>22080.666667</td>\n",
       "      <td>7572.666667</td>\n",
       "      <td>5277.666667</td>\n",
       "    </tr>\n",
       "    <tr>\n",
       "      <th>2</th>\n",
       "      <td>39051.000000</td>\n",
       "      <td>14546.666667</td>\n",
       "      <td>25528.666667</td>\n",
       "      <td>47251.0</td>\n",
       "      <td>60948.333333</td>\n",
       "      <td>21171.000000</td>\n",
       "      <td>15862.000000</td>\n",
       "      <td>11886.333333</td>\n",
       "    </tr>\n",
       "    <tr>\n",
       "      <th>3</th>\n",
       "      <td>39051.000000</td>\n",
       "      <td>14546.666667</td>\n",
       "      <td>25528.666667</td>\n",
       "      <td>47251.0</td>\n",
       "      <td>60948.333333</td>\n",
       "      <td>21171.000000</td>\n",
       "      <td>15862.000000</td>\n",
       "      <td>11886.333333</td>\n",
       "    </tr>\n",
       "    <tr>\n",
       "      <th>4</th>\n",
       "      <td>39051.000000</td>\n",
       "      <td>14546.666667</td>\n",
       "      <td>25528.666667</td>\n",
       "      <td>47251.0</td>\n",
       "      <td>60948.333333</td>\n",
       "      <td>21171.000000</td>\n",
       "      <td>15862.000000</td>\n",
       "      <td>11886.333333</td>\n",
       "    </tr>\n",
       "  </tbody>\n",
       "</table>\n",
       "</div>"
      ],
      "text/plain": [
       "        アメリカ合衆国       オーストラリア        中華人民共和国       台湾          大韓民国  \\\n",
       "0  32372.666667  11410.666667  108908.333333  60282.0  64795.333333   \n",
       "1  32372.666667  11410.666667  108908.333333  60282.0  64795.333333   \n",
       "2  39051.000000  14546.666667   25528.666667  47251.0  60948.333333   \n",
       "3  39051.000000  14546.666667   25528.666667  47251.0  60948.333333   \n",
       "4  39051.000000  14546.666667   25528.666667  47251.0  60948.333333   \n",
       "\n",
       "             香港            タイ        シンガポール  \n",
       "0  22080.666667   7572.666667   5277.666667  \n",
       "1  22080.666667   7572.666667   5277.666667  \n",
       "2  21171.000000  15862.000000  11886.333333  \n",
       "3  21171.000000  15862.000000  11886.333333  \n",
       "4  21171.000000  15862.000000  11886.333333  "
      ]
     },
     "execution_count": 18,
     "metadata": {},
     "output_type": "execute_result"
    }
   ],
   "source": [
    "tourlist_num.head()"
   ]
  },
  {
   "cell_type": "code",
   "execution_count": 8,
   "metadata": {
    "collapsed": true
   },
   "outputs": [],
   "source": [
    "# 国籍をつぶす場合\n",
    "c_list = ['アメリカ合衆国', 'オーストラリア', '中華人民共和国', '台湾', '大韓民国', '香港', 'タイ', 'シンガポール']\n",
    "appliances_sum = np.zeros(length)\n",
    "tourlist_sum = np.zeros(length)\n",
    "for c in c_list:\n",
    "    appliances_sum += df_appliances[c].values\n",
    "    tourlist_sum += tourlist_dic[c]"
   ]
  },
  {
   "cell_type": "code",
   "execution_count": 9,
   "metadata": {
    "collapsed": false,
    "scrolled": false
   },
   "outputs": [
    {
     "data": {
      "text/plain": [
       "array([  5.63979535e+08,   5.54543129e+08,   6.51402306e+08,\n",
       "         6.94986535e+08,   8.90895305e+08,   9.05163197e+08,\n",
       "         1.13848683e+09,   1.52224248e+09,   1.99802632e+09,\n",
       "         1.88549215e+09,   1.59372622e+09,   1.62010248e+09,\n",
       "         1.30164385e+09,   1.38817901e+09,   1.47591447e+09,\n",
       "         1.72749464e+09,   2.23829160e+09,   2.22276024e+09,\n",
       "         1.95632987e+09,   2.31276091e+09,   2.67365282e+09,\n",
       "         2.09661896e+09,   1.85742532e+09,   2.39739505e+09,\n",
       "         2.08351000e+09,   2.44367221e+09,   3.69483550e+09,\n",
       "         4.66420544e+09,   5.22091481e+09,   4.74479193e+09,\n",
       "         6.45151465e+09,   6.95242782e+09,   9.23295603e+09,\n",
       "         7.04673065e+09,   7.54826371e+09,   9.07512082e+09,\n",
       "         8.39353595e+09,   5.69655496e+09,   7.56515770e+09,\n",
       "         7.00856920e+09,   6.61320618e+09,   6.00522637e+09,\n",
       "         5.71504977e+09,   1.71154261e+10])"
      ]
     },
     "execution_count": 9,
     "metadata": {},
     "output_type": "execute_result"
    }
   ],
   "source": [
    "appliances_sum"
   ]
  },
  {
   "cell_type": "code",
   "execution_count": 14,
   "metadata": {
    "collapsed": false
   },
   "outputs": [],
   "source": [
    "X = df_appliances"
   ]
  },
  {
   "cell_type": "code",
   "execution_count": 25,
   "metadata": {
    "collapsed": false
   },
   "outputs": [],
   "source": [
    "X = X/tourlist_num"
   ]
  },
  {
   "cell_type": "code",
   "execution_count": 26,
   "metadata": {
    "collapsed": false,
    "scrolled": true
   },
   "outputs": [
    {
     "data": {
      "text/html": [
       "<div>\n",
       "<style>\n",
       "    .dataframe thead tr:only-child th {\n",
       "        text-align: right;\n",
       "    }\n",
       "\n",
       "    .dataframe thead th {\n",
       "        text-align: left;\n",
       "    }\n",
       "\n",
       "    .dataframe tbody tr th {\n",
       "        vertical-align: top;\n",
       "    }\n",
       "</style>\n",
       "<table border=\"1\" class=\"dataframe\">\n",
       "  <thead>\n",
       "    <tr style=\"text-align: right;\">\n",
       "      <th></th>\n",
       "      <th>Unnamed: 0</th>\n",
       "      <th>アメリカ合衆国</th>\n",
       "      <th>オーストラリア</th>\n",
       "      <th>シンガポール</th>\n",
       "      <th>タイ</th>\n",
       "      <th>中華人民共和国</th>\n",
       "      <th>台湾</th>\n",
       "      <th>大韓民国</th>\n",
       "      <th>香港</th>\n",
       "    </tr>\n",
       "  </thead>\n",
       "  <tbody>\n",
       "    <tr>\n",
       "      <th>0</th>\n",
       "      <td>NaN</td>\n",
       "      <td>13930.813474</td>\n",
       "      <td>15064.907251</td>\n",
       "      <td>59472.622434</td>\n",
       "      <td>87904.863280</td>\n",
       "      <td>8879.652800</td>\n",
       "      <td>17001.319117</td>\n",
       "      <td>14003.463912</td>\n",
       "      <td>35571.828417</td>\n",
       "    </tr>\n",
       "    <tr>\n",
       "      <th>1</th>\n",
       "      <td>NaN</td>\n",
       "      <td>14916.617990</td>\n",
       "      <td>20394.372108</td>\n",
       "      <td>64311.821196</td>\n",
       "      <td>96785.707369</td>\n",
       "      <td>5779.035008</td>\n",
       "      <td>16129.033824</td>\n",
       "      <td>15487.798741</td>\n",
       "      <td>32679.542466</td>\n",
       "    </tr>\n",
       "    <tr>\n",
       "      <th>2</th>\n",
       "      <td>NaN</td>\n",
       "      <td>14685.681186</td>\n",
       "      <td>16979.274473</td>\n",
       "      <td>34542.018004</td>\n",
       "      <td>76877.704073</td>\n",
       "      <td>24286.335557</td>\n",
       "      <td>22160.730694</td>\n",
       "      <td>19703.287610</td>\n",
       "      <td>43051.070285</td>\n",
       "    </tr>\n",
       "    <tr>\n",
       "      <th>3</th>\n",
       "      <td>NaN</td>\n",
       "      <td>14211.719034</td>\n",
       "      <td>14858.397731</td>\n",
       "      <td>49611.160184</td>\n",
       "      <td>52114.882171</td>\n",
       "      <td>23343.856645</td>\n",
       "      <td>25514.944022</td>\n",
       "      <td>19911.776641</td>\n",
       "      <td>45958.701715</td>\n",
       "    </tr>\n",
       "    <tr>\n",
       "      <th>4</th>\n",
       "      <td>NaN</td>\n",
       "      <td>17629.728995</td>\n",
       "      <td>22924.597754</td>\n",
       "      <td>74510.557223</td>\n",
       "      <td>84792.449061</td>\n",
       "      <td>29783.074100</td>\n",
       "      <td>26664.797147</td>\n",
       "      <td>21210.299336</td>\n",
       "      <td>53050.094752</td>\n",
       "    </tr>\n",
       "  </tbody>\n",
       "</table>\n",
       "</div>"
      ],
      "text/plain": [
       "  Unnamed: 0       アメリカ合衆国       オーストラリア        シンガポール            タイ  \\\n",
       "0        NaN  13930.813474  15064.907251  59472.622434  87904.863280   \n",
       "1        NaN  14916.617990  20394.372108  64311.821196  96785.707369   \n",
       "2        NaN  14685.681186  16979.274473  34542.018004  76877.704073   \n",
       "3        NaN  14211.719034  14858.397731  49611.160184  52114.882171   \n",
       "4        NaN  17629.728995  22924.597754  74510.557223  84792.449061   \n",
       "\n",
       "        中華人民共和国            台湾          大韓民国            香港  \n",
       "0   8879.652800  17001.319117  14003.463912  35571.828417  \n",
       "1   5779.035008  16129.033824  15487.798741  32679.542466  \n",
       "2  24286.335557  22160.730694  19703.287610  43051.070285  \n",
       "3  23343.856645  25514.944022  19911.776641  45958.701715  \n",
       "4  29783.074100  26664.797147  21210.299336  53050.094752  "
      ]
     },
     "execution_count": 26,
     "metadata": {},
     "output_type": "execute_result"
    }
   ],
   "source": [
    "X.head()"
   ]
  },
  {
   "cell_type": "code",
   "execution_count": 20,
   "metadata": {
    "collapsed": false
   },
   "outputs": [],
   "source": [
    "X = X.set_index(\"month\")"
   ]
  },
  {
   "cell_type": "code",
   "execution_count": 27,
   "metadata": {
    "collapsed": true
   },
   "outputs": [],
   "source": [
    "X = X.set_index(\"Unnamed: 0\")"
   ]
  },
  {
   "cell_type": "code",
   "execution_count": 28,
   "metadata": {
    "collapsed": false
   },
   "outputs": [
    {
     "data": {
      "text/plain": [
       "PCA(copy=True, iterated_power='auto', n_components=2, random_state=None,\n",
       "  svd_solver='auto', tol=0.0, whiten=False)"
      ]
     },
     "execution_count": 28,
     "metadata": {},
     "output_type": "execute_result"
    }
   ],
   "source": [
    "pca = PCA(n_components=2)\n",
    "pca.fit(X)"
   ]
  },
  {
   "cell_type": "code",
   "execution_count": 29,
   "metadata": {
    "collapsed": false
   },
   "outputs": [
    {
     "data": {
      "text/plain": [
       "array([ 0.06762001,  0.07708023,  0.76191088,  0.39984508,  0.01564599,\n",
       "        0.1363264 ,  0.07957638,  0.4732228 ])"
      ]
     },
     "execution_count": 29,
     "metadata": {},
     "output_type": "execute_result"
    }
   ],
   "source": [
    "pca.components_[0]"
   ]
  },
  {
   "cell_type": "code",
   "execution_count": null,
   "metadata": {
    "collapsed": true
   },
   "outputs": [],
   "source": []
  }
 ],
 "metadata": {
  "kernelspec": {
   "display_name": "Python 3",
   "language": "python",
   "name": "python3"
  },
  "language_info": {
   "codemirror_mode": {
    "name": "ipython",
    "version": 3
   },
   "file_extension": ".py",
   "mimetype": "text/x-python",
   "name": "python",
   "nbconvert_exporter": "python",
   "pygments_lexer": "ipython3",
   "version": "3.6.0"
  }
 },
 "nbformat": 4,
 "nbformat_minor": 2
}
