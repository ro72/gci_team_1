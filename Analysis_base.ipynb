{
 "cells": [
  {
   "cell_type": "code",
   "execution_count": 1,
   "metadata": {
    "collapsed": true
   },
   "outputs": [],
   "source": [
    "import numpy as np\n",
    "import pandas as pd\n",
    "import matplotlib.pyplot as plt\n",
    "import json\n",
    "from sklearn.cluster import KMeans\n",
    "%matplotlib inline"
   ]
  },
  {
   "cell_type": "code",
   "execution_count": 2,
   "metadata": {
<<<<<<< HEAD:k-means.ipynb
    "collapsed": true
=======
    "collapsed": false
>>>>>>> 9cd83f0fa087de1f845f1e62e816259573e3244c:Analysis_base.ipynb
   },
   "outputs": [],
   "source": [
    "df_appliances = pd.read_csv('credit_card/appliances.csv')\n",
    "df_department = pd.read_csv('credit_card/departmentstore.csv')\n",
    "df_drug = pd.read_csv('credit_card/drug.csv')\n",
    "df_fashion = pd.read_csv('credit_card/fashion.csv')\n",
    "df_flower = pd.read_csv('credit_card/flowershop.csv')\n",
    "df_food = pd.read_csv('credit_card/food_utf8.csv')\n",
    "df_home = pd.read_csv('credit_card/home_goods_utf8.csv')\n",
    "df_luxury = pd.read_csv('credit_card/luxury.csv')\n",
    "df_reuse = pd.read_csv('credit_card/reuse.csv')\n",
    "df_sport = pd.read_csv('credit_card/sport.csv')\n",
    "df_super = pd.read_csv('credit_card/supermarket.csv')"
   ]
  },
  {
   "cell_type": "code",
   "execution_count": 3,
<<<<<<< HEAD:k-means.ipynb
   "metadata": {},
=======
   "metadata": {
    "collapsed": false
   },
>>>>>>> 9cd83f0fa087de1f845f1e62e816259573e3244c:Analysis_base.ipynb
   "outputs": [
    {
     "data": {
      "text/html": [
       "<div>\n",
       "<style>\n",
       "    .dataframe thead tr:only-child th {\n",
       "        text-align: right;\n",
       "    }\n",
       "\n",
       "    .dataframe thead th {\n",
       "        text-align: left;\n",
       "    }\n",
       "\n",
       "    .dataframe tbody tr th {\n",
       "        vertical-align: top;\n",
       "    }\n",
       "</style>\n",
       "<table border=\"1\" class=\"dataframe\">\n",
       "  <thead>\n",
       "    <tr style=\"text-align: right;\">\n",
       "      <th></th>\n",
       "      <th>month</th>\n",
       "      <th>アメリカ合衆国</th>\n",
       "      <th>オーストラリア</th>\n",
       "      <th>台湾</th>\n",
       "      <th>中華人民共和国</th>\n",
       "      <th>タイ</th>\n",
       "      <th>香港</th>\n",
       "      <th>大韓民国</th>\n",
       "      <th>シンガポール</th>\n",
       "    </tr>\n",
       "  </thead>\n",
       "  <tbody>\n",
       "    <tr>\n",
       "      <th>0</th>\n",
       "      <td>12-Aug</td>\n",
       "      <td>49171922</td>\n",
       "      <td>26340071</td>\n",
       "      <td>94590771</td>\n",
       "      <td>156240871</td>\n",
       "      <td>60798441</td>\n",
       "      <td>66252524</td>\n",
       "      <td>83092041</td>\n",
       "      <td>27492894</td>\n",
       "    </tr>\n",
       "    <tr>\n",
       "      <th>1</th>\n",
       "      <td>12-Sep</td>\n",
       "      <td>55425553</td>\n",
       "      <td>36140241</td>\n",
       "      <td>97834288</td>\n",
       "      <td>84001724</td>\n",
       "      <td>88439712</td>\n",
       "      <td>75978641</td>\n",
       "      <td>87631229</td>\n",
       "      <td>29091741</td>\n",
       "    </tr>\n",
       "    <tr>\n",
       "      <th>2</th>\n",
       "      <td>12-Oct</td>\n",
       "      <td>56629758</td>\n",
       "      <td>40049371</td>\n",
       "      <td>103367812</td>\n",
       "      <td>69291641</td>\n",
       "      <td>157488912</td>\n",
       "      <td>78040706</td>\n",
       "      <td>93480094</td>\n",
       "      <td>53054012</td>\n",
       "    </tr>\n",
       "    <tr>\n",
       "      <th>3</th>\n",
       "      <td>12-Nov</td>\n",
       "      <td>47490087</td>\n",
       "      <td>41192971</td>\n",
       "      <td>163181941</td>\n",
       "      <td>59520106</td>\n",
       "      <td>116607376</td>\n",
       "      <td>82751224</td>\n",
       "      <td>121145265</td>\n",
       "      <td>63097565</td>\n",
       "    </tr>\n",
       "    <tr>\n",
       "      <th>4</th>\n",
       "      <td>12-Dec</td>\n",
       "      <td>63525540</td>\n",
       "      <td>58901488</td>\n",
       "      <td>155653129</td>\n",
       "      <td>92870059</td>\n",
       "      <td>177378524</td>\n",
       "      <td>120890276</td>\n",
       "      <td>122495218</td>\n",
       "      <td>99181071</td>\n",
       "    </tr>\n",
       "  </tbody>\n",
       "</table>\n",
       "</div>"
      ],
      "text/plain": [
       "    month   アメリカ合衆国   オーストラリア         台湾    中華人民共和国         タイ         香港  \\\n",
       "0  12-Aug  49171922  26340071   94590771  156240871   60798441   66252524   \n",
       "1  12-Sep  55425553  36140241   97834288   84001724   88439712   75978641   \n",
       "2  12-Oct  56629758  40049371  103367812   69291641  157488912   78040706   \n",
       "3  12-Nov  47490087  41192971  163181941   59520106  116607376   82751224   \n",
       "4  12-Dec  63525540  58901488  155653129   92870059  177378524  120890276   \n",
       "\n",
       "        大韓民国    シンガポール  \n",
       "0   83092041  27492894  \n",
       "1   87631229  29091741  \n",
       "2   93480094  53054012  \n",
       "3  121145265  63097565  \n",
       "4  122495218  99181071  "
      ]
     },
     "execution_count": 3,
     "metadata": {},
     "output_type": "execute_result"
    }
   ],
   "source": [
    "df_appliances.head()"
   ]
  },
  {
   "cell_type": "code",
   "execution_count": 4,
<<<<<<< HEAD:k-means.ipynb
   "metadata": {},
   "outputs": [
    {
     "name": "stderr",
     "output_type": "stream",
     "text": [
      "/Users/shionhonda/.pyenv/versions/anaconda3-4.4.0/lib/python3.6/site-packages/ipykernel_launcher.py:2: SettingWithCopyWarning: \n",
      "A value is trying to be set on a copy of a slice from a DataFrame\n",
      "\n",
      "See the caveats in the documentation: http://pandas.pydata.org/pandas-docs/stable/indexing.html#indexing-view-versus-copy\n",
      "  \n"
     ]
    }
   ],
   "source": [
    "df_drug = df_drug.dropna()\n",
    "df_flower['タイ'][10] = df_flower['タイ'].median()"
   ]
  },
  {
   "cell_type": "code",
   "execution_count": 5,
   "metadata": {},
=======
   "metadata": {
    "collapsed": false
   },
>>>>>>> 9cd83f0fa087de1f845f1e62e816259573e3244c:Analysis_base.ipynb
   "outputs": [
    {
     "data": {
      "text/plain": [
       "array([  94590771,   97834288,  103367812,  163181941,  155653129,\n",
       "        190887224,  295630618,  367051488,  508157906,  573145682,\n",
       "        495434847,  402260500,  298226471,  390051118,  325691547,\n",
       "        533125241,  897358412,  794930553,  621988273,  641420173,\n",
       "        619585040,  534832173,  531404300,  594699233,  501712940,\n",
       "        554407933,  997238873, 1466322947, 1547160717, 1471211833,\n",
       "       1785200453, 1768208120, 2465563487, 2375592347, 3339225227,\n",
       "       3240584260, 2955352420, 2436377055, 2821861700, 2740272370,\n",
       "       2568158907, 2508766838, 2409342010, 1590571234])"
      ]
     },
<<<<<<< HEAD:k-means.ipynb
     "execution_count": 5,
=======
     "execution_count": 4,
>>>>>>> 9cd83f0fa087de1f845f1e62e816259573e3244c:Analysis_base.ipynb
     "metadata": {},
     "output_type": "execute_result"
    }
   ],
   "source": [
    "df_appliances['台湾'].values"
   ]
  },
  {
   "cell_type": "code",
<<<<<<< HEAD:k-means.ipynb
   "execution_count": 6,
=======
   "execution_count": 5,
>>>>>>> 9cd83f0fa087de1f845f1e62e816259573e3244c:Analysis_base.ipynb
   "metadata": {
    "collapsed": true
   },
   "outputs": [],
   "source": [
    "length = len(df_appliances['台湾'].values)"
   ]
  },
  {
   "cell_type": "code",
<<<<<<< HEAD:k-means.ipynb
   "execution_count": 7,
=======
   "execution_count": 6,
>>>>>>> 9cd83f0fa087de1f845f1e62e816259573e3244c:Analysis_base.ipynb
   "metadata": {
    "collapsed": true
   },
   "outputs": [],
   "source": [
    "# 1月あたり旅行者\n",
    "tourlist_dic={}\n",
    "for year in range(2012,2017):\n",
    "    with open(\"tourists_number/FY%d\"%year,\"r\",encoding=\"utf-8\") as f:\n",
    "        dic = json.load(f)\n",
    "    for countryData in dic[\"result\"][\"changes\"]:\n",
    "        country = countryData[\"countryName\"]\n",
    "        for i in range(len(countryData[\"data\"])):\n",
    "            num_qt = countryData[\"data\"][i]\n",
    "            if num_qt[\"year\"] == year:\n",
    "                if year == 2012:\n",
    "                    if num_qt[\"quarter\"] > 2:\n",
    "                        if num_qt[\"quarter\"] == 3:\n",
    "                            iteration = 2\n",
    "                        elif num_qt[\"quarter\"] == 4:\n",
    "                            iteration = 3\n",
    "                        num_m = num_qt[\"value\"]/3\n",
    "                        for i in range(iteration):\n",
    "                            try:\n",
    "                                tourlist_dic[country].append(num_m)\n",
    "                            except:\n",
    "                                tourlist_dic[country] = [num_m]\n",
    "                elif year == 2016:\n",
    "                    if num_qt[\"quarter\"] == 1:\n",
    "                        num_m = num_qt[\"value\"]/3\n",
    "                        for i in range(3):\n",
    "                            try:\n",
    "                                tourlist_dic[country].append(num_m)\n",
    "                            except:\n",
    "                                tourlist_dic[country] = [num_m]\n",
    "                else:\n",
    "                    num_m = num_qt[\"value\"]/3\n",
    "                    for i in range(3):\n",
    "                        try:\n",
    "                            tourlist_dic[country].append(num_m)\n",
    "                        except:\n",
    "                            tourlist_dic[country] = [num_m]\n",
    "for k,v in tourlist_dic.items():\n",
    "    tourlist_dic[k] = np.array(v)\n"
   ]
  },
  {
   "cell_type": "code",
<<<<<<< HEAD:k-means.ipynb
   "execution_count": 8,
   "metadata": {},
=======
   "execution_count": 7,
   "metadata": {
    "collapsed": false,
    "scrolled": true
   },
>>>>>>> 9cd83f0fa087de1f845f1e62e816259573e3244c:Analysis_base.ipynb
   "outputs": [
    {
     "data": {
      "text/plain": [
       "array([  60282.        ,   60282.        ,   47251.        ,\n",
       "         47251.        ,   47251.        ,   50771.66666667,\n",
       "         50771.66666667,   50771.66666667,   75715.33333333,\n",
       "         75715.33333333,   75715.33333333,   85122.66666667,\n",
       "         85122.66666667,   85122.66666667,   64330.        ,\n",
       "         64330.        ,   64330.        ,   79218.66666667,\n",
       "         79218.66666667,   79218.66666667,  100437.66666667,\n",
       "        100437.66666667,  100437.66666667,  100593.66666667,\n",
       "        100593.66666667,  100593.66666667,   87058.33333333,\n",
       "         87058.33333333,   87058.33333333,  102430.        ,\n",
       "        102430.        ,  102430.        ,  124405.33333333,\n",
       "        124405.33333333,  124405.33333333,  118414.33333333,\n",
       "        118414.33333333,  118414.33333333,  100467.66666667,\n",
       "        100467.66666667,  100467.66666667,  121293.        ,\n",
       "        121293.        ,  121293.        ])"
      ]
     },
<<<<<<< HEAD:k-means.ipynb
     "execution_count": 8,
=======
     "execution_count": 7,
>>>>>>> 9cd83f0fa087de1f845f1e62e816259573e3244c:Analysis_base.ipynb
     "metadata": {},
     "output_type": "execute_result"
    }
   ],
   "source": [
    "tourlist_dic['台湾']"
   ]
  },
  {
   "cell_type": "code",
<<<<<<< HEAD:k-means.ipynb
   "execution_count": 19,
=======
   "execution_count": 8,
>>>>>>> 9cd83f0fa087de1f845f1e62e816259573e3244c:Analysis_base.ipynb
   "metadata": {
    "collapsed": true
   },
   "outputs": [],
   "source": [
    "# 国籍をつぶす場合\n",
    "c_list = ['アメリカ合衆国', 'オーストラリア', '中華人民共和国', '台湾', '大韓民国', '香港', 'タイ', 'シンガポール']\n",
    "appliances_sum = np.zeros(length)\n",
<<<<<<< HEAD:k-means.ipynb
    "department_sum = np.zeros(length)\n",
    "drug_sum = np.zeros(length)\n",
    "fashion_sum = np.zeros(length)\n",
    "flower_sum = np.zeros(length)\n",
    "food_sum = np.zeros(length)\n",
    "home_sum = np.zeros(length)\n",
    "luxury_sum = np.zeros(length)\n",
    "reuse_sum = np.zeros(length)\n",
    "sport_sum = np.zeros(length)\n",
    "super_sum = np.zeros(length)\n",
    "tourist_sum = np.zeros(length)\n",
    "for c in c_list:\n",
    "    appliances_sum += df_appliances[c].values\n",
    "    department_sum += df_department[c].values\n",
    "    drug_sum += df_drug[c].values\n",
    "    fashion_sum += df_fashion[c].values\n",
    "    flower_sum += df_flower[c].values\n",
    "    food_sum += df_food[c].values\n",
    "    home_sum += df_home[c].values\n",
    "    luxury_sum += df_luxury[c].values\n",
    "    reuse_sum += df_reuse[c].values\n",
    "    sport_sum += df_sport[c].values\n",
    "    super_sum += df_super[c].values\n",
    "    tourist_sum += tourlist_dic[c]"
=======
    "tourlist_sum = np.zeros(length)\n",
    "for c in c_list:\n",
    "    appliances_sum += df_appliances[c].values\n",
    "    tourlist_sum += tourlist_dic[c]"
>>>>>>> 9cd83f0fa087de1f845f1e62e816259573e3244c:Analysis_base.ipynb
   ]
  },
  {
   "cell_type": "code",
<<<<<<< HEAD:k-means.ipynb
   "execution_count": 20,
   "metadata": {},
   "outputs": [],
   "source": [
    "appliances_mean = appliances_sum/tourist_sum\n",
    "department_mean = department_sum/tourist_sum\n",
    "drug_mean = drug_sum/tourist_sum\n",
    "fashion_mean = fashion_sum/tourist_sum\n",
    "flower_mean = flower_sum/tourist_sum\n",
    "food_mean = food_sum/tourist_sum\n",
    "home_mean = home_sum/tourist_sum\n",
    "luxury_mean = luxury_sum/tourist_sum\n",
    "reuse_mean = reuse_sum/tourist_sum\n",
    "sport_mean = sport_sum/tourist_sum\n",
    "super_mean = super_sum/tourist_sum"
   ]
  },
  {
   "cell_type": "code",
   "execution_count": 38,
   "metadata": {},
   "outputs": [],
   "source": [
    "appliances_mean /= appliances_mean.mean()\n",
    "department_mean /= department_mean.mean()\n",
    "drug_mean /= drug_mean.mean()\n",
    "fashion_mean /= fashion_mean.mean()\n",
    "flower_mean /= flower_mean.mean()\n",
    "food_mean /= food_mean.mean()\n",
    "home_mean /= home_mean.mean()\n",
    "luxury_mean /= luxury_mean.mean()\n",
    "reuse_mean /= reuse_mean.mean()\n",
    "sport_mean /= sport_mean.mean()\n",
    "super_mean /= super_mean.mean()"
   ]
  },
  {
   "cell_type": "code",
   "execution_count": 39,
   "metadata": {
    "collapsed": true
   },
   "outputs": [],
   "source": [
    "array = np.vstack((appliances_mean, department_mean, drug_mean, fashion_mean, flower_mean, food_mean, home_mean, luxury_mean, reuse_mean, sport_mean, super_mean))"
   ]
  },
  {
   "cell_type": "code",
   "execution_count": 55,
   "metadata": {
    "collapsed": true
   },
   "outputs": [],
   "source": [
    "km = KMeans(n_clusters=4)\n",
    "pred = km.fit_predict(array)"
   ]
  },
  {
   "cell_type": "code",
   "execution_count": 56,
   "metadata": {},
   "outputs": [
    {
     "data": {
      "text/plain": [
       "array([1, 0, 0, 0, 2, 0, 0, 0, 3, 0, 0], dtype=int32)"
      ]
     },
     "execution_count": 56,
     "metadata": {},
     "output_type": "execute_result"
    }
   ],
   "source": [
    "pred"
   ]
  },
  {
   "cell_type": "code",
   "execution_count": 57,
   "metadata": {
    "collapsed": true
   },
   "outputs": [],
   "source": [
    "df = pd.DataFrame(array)"
   ]
  },
  {
   "cell_type": "code",
   "execution_count": 58,
   "metadata": {},
   "outputs": [],
   "source": [
    "df['cluster_id']=pred\n",
    "df['name'] = [\"appliances\", \"department\", \"drug\", \"fashion\", \"flower\", \"food\", \"home\", \"luxury\",\"reuse\", \"sport\", \"super\"]"
   ]
  },
  {
   "cell_type": "code",
   "execution_count": 59,
   "metadata": {},
=======
   "execution_count": 9,
   "metadata": {
    "collapsed": false
   },
>>>>>>> 9cd83f0fa087de1f845f1e62e816259573e3244c:Analysis_base.ipynb
   "outputs": [
    {
     "data": {
      "text/html": [
       "<div>\n",
       "<style>\n",
       "    .dataframe thead tr:only-child th {\n",
       "        text-align: right;\n",
       "    }\n",
       "\n",
       "    .dataframe thead th {\n",
       "        text-align: left;\n",
       "    }\n",
       "\n",
       "    .dataframe tbody tr th {\n",
       "        vertical-align: top;\n",
       "    }\n",
       "</style>\n",
       "<table border=\"1\" class=\"dataframe\">\n",
       "  <thead>\n",
       "    <tr style=\"text-align: right;\">\n",
       "      <th></th>\n",
       "      <th>0</th>\n",
       "      <th>1</th>\n",
       "      <th>2</th>\n",
       "      <th>3</th>\n",
       "      <th>4</th>\n",
       "      <th>5</th>\n",
       "      <th>6</th>\n",
       "      <th>7</th>\n",
       "      <th>8</th>\n",
       "      <th>9</th>\n",
       "      <th>...</th>\n",
       "      <th>36</th>\n",
       "      <th>37</th>\n",
       "      <th>38</th>\n",
       "      <th>39</th>\n",
       "      <th>40</th>\n",
       "      <th>41</th>\n",
       "      <th>42</th>\n",
       "      <th>43</th>\n",
       "      <th>cluster_id</th>\n",
       "      <th>name</th>\n",
       "    </tr>\n",
       "  </thead>\n",
       "  <tbody>\n",
       "    <tr>\n",
       "      <th>0</th>\n",
       "      <td>0.249406</td>\n",
       "      <td>0.245233</td>\n",
       "      <td>0.381292</td>\n",
       "      <td>0.406804</td>\n",
       "      <td>0.521477</td>\n",
       "      <td>0.476173</td>\n",
       "      <td>0.598916</td>\n",
       "      <td>0.800796</td>\n",
       "      <td>0.854124</td>\n",
       "      <td>0.806018</td>\n",
       "      <td>...</td>\n",
       "      <td>1.506733</td>\n",
       "      <td>1.022595</td>\n",
       "      <td>1.570512</td>\n",
       "      <td>1.454965</td>\n",
       "      <td>1.372888</td>\n",
       "      <td>1.137522</td>\n",
       "      <td>1.082557</td>\n",
       "      <td>3.242040</td>\n",
       "      <td>1</td>\n",
       "      <td>appliances</td>\n",
       "    </tr>\n",
       "    <tr>\n",
       "      <th>1</th>\n",
       "      <td>0.514179</td>\n",
       "      <td>0.497410</td>\n",
       "      <td>0.801934</td>\n",
       "      <td>0.794940</td>\n",
       "      <td>0.989710</td>\n",
       "      <td>0.885678</td>\n",
       "      <td>0.945538</td>\n",
       "      <td>1.037768</td>\n",
       "      <td>1.169958</td>\n",
       "      <td>1.028200</td>\n",
       "      <td>...</td>\n",
       "      <td>0.871925</td>\n",
       "      <td>0.761218</td>\n",
       "      <td>1.134443</td>\n",
       "      <td>1.089315</td>\n",
       "      <td>1.285138</td>\n",
       "      <td>1.070732</td>\n",
       "      <td>0.949158</td>\n",
       "      <td>0.860731</td>\n",
       "      <td>0</td>\n",
       "      <td>department</td>\n",
       "    </tr>\n",
       "    <tr>\n",
       "      <th>2</th>\n",
       "      <td>0.507212</td>\n",
       "      <td>0.503732</td>\n",
       "      <td>0.711167</td>\n",
       "      <td>0.689224</td>\n",
       "      <td>0.802550</td>\n",
       "      <td>0.699252</td>\n",
       "      <td>0.746717</td>\n",
       "      <td>0.922878</td>\n",
       "      <td>0.987169</td>\n",
       "      <td>0.812400</td>\n",
       "      <td>...</td>\n",
       "      <td>0.960454</td>\n",
       "      <td>0.915094</td>\n",
       "      <td>1.284059</td>\n",
       "      <td>1.149731</td>\n",
       "      <td>1.293754</td>\n",
       "      <td>1.116066</td>\n",
       "      <td>1.078306</td>\n",
       "      <td>1.037240</td>\n",
       "      <td>0</td>\n",
       "      <td>drug</td>\n",
       "    </tr>\n",
       "    <tr>\n",
       "      <th>3</th>\n",
       "      <td>0.810121</td>\n",
       "      <td>0.479086</td>\n",
       "      <td>0.833744</td>\n",
       "      <td>0.807134</td>\n",
       "      <td>1.091745</td>\n",
       "      <td>0.766043</td>\n",
       "      <td>0.967155</td>\n",
       "      <td>1.069489</td>\n",
       "      <td>1.369350</td>\n",
       "      <td>0.996393</td>\n",
       "      <td>...</td>\n",
       "      <td>0.745128</td>\n",
       "      <td>0.777812</td>\n",
       "      <td>1.161200</td>\n",
       "      <td>1.192672</td>\n",
       "      <td>1.268724</td>\n",
       "      <td>1.029989</td>\n",
       "      <td>0.913623</td>\n",
       "      <td>0.816439</td>\n",
       "      <td>0</td>\n",
       "      <td>fashion</td>\n",
       "    </tr>\n",
       "    <tr>\n",
       "      <th>4</th>\n",
       "      <td>0.740460</td>\n",
       "      <td>0.779520</td>\n",
       "      <td>1.072831</td>\n",
       "      <td>0.870756</td>\n",
       "      <td>1.901311</td>\n",
       "      <td>1.453223</td>\n",
       "      <td>0.951684</td>\n",
       "      <td>1.654067</td>\n",
       "      <td>0.987090</td>\n",
       "      <td>2.522006</td>\n",
       "      <td>...</td>\n",
       "      <td>0.424614</td>\n",
       "      <td>0.424016</td>\n",
       "      <td>0.709601</td>\n",
       "      <td>0.502884</td>\n",
       "      <td>0.808573</td>\n",
       "      <td>0.385701</td>\n",
       "      <td>0.507892</td>\n",
       "      <td>0.428269</td>\n",
       "      <td>2</td>\n",
       "      <td>flower</td>\n",
       "    </tr>\n",
       "    <tr>\n",
       "      <th>5</th>\n",
       "      <td>0.462411</td>\n",
       "      <td>0.389008</td>\n",
       "      <td>0.561144</td>\n",
       "      <td>0.573865</td>\n",
       "      <td>0.755100</td>\n",
       "      <td>0.709944</td>\n",
       "      <td>0.640062</td>\n",
       "      <td>0.720007</td>\n",
       "      <td>0.638966</td>\n",
       "      <td>0.646268</td>\n",
       "      <td>...</td>\n",
       "      <td>1.323180</td>\n",
       "      <td>1.132400</td>\n",
       "      <td>1.505708</td>\n",
       "      <td>1.403296</td>\n",
       "      <td>1.671309</td>\n",
       "      <td>1.579014</td>\n",
       "      <td>1.618378</td>\n",
       "      <td>1.333746</td>\n",
       "      <td>0</td>\n",
       "      <td>food</td>\n",
       "    </tr>\n",
       "    <tr>\n",
       "      <th>6</th>\n",
       "      <td>0.383503</td>\n",
       "      <td>0.454519</td>\n",
       "      <td>0.754382</td>\n",
       "      <td>0.659949</td>\n",
       "      <td>0.811681</td>\n",
       "      <td>0.511833</td>\n",
       "      <td>0.737278</td>\n",
       "      <td>0.749696</td>\n",
       "      <td>1.538689</td>\n",
       "      <td>0.793609</td>\n",
       "      <td>...</td>\n",
       "      <td>0.815077</td>\n",
       "      <td>0.732067</td>\n",
       "      <td>1.240926</td>\n",
       "      <td>1.311251</td>\n",
       "      <td>1.351613</td>\n",
       "      <td>1.012892</td>\n",
       "      <td>1.041051</td>\n",
       "      <td>0.888069</td>\n",
       "      <td>0</td>\n",
       "      <td>home</td>\n",
       "    </tr>\n",
       "    <tr>\n",
       "      <th>7</th>\n",
       "      <td>0.405010</td>\n",
       "      <td>0.364503</td>\n",
       "      <td>0.471711</td>\n",
       "      <td>0.552306</td>\n",
       "      <td>0.844717</td>\n",
       "      <td>0.799399</td>\n",
       "      <td>0.958435</td>\n",
       "      <td>1.064241</td>\n",
       "      <td>1.805201</td>\n",
       "      <td>1.187265</td>\n",
       "      <td>...</td>\n",
       "      <td>0.773796</td>\n",
       "      <td>0.716499</td>\n",
       "      <td>1.120115</td>\n",
       "      <td>0.953670</td>\n",
       "      <td>1.297609</td>\n",
       "      <td>0.808041</td>\n",
       "      <td>0.680093</td>\n",
       "      <td>0.577685</td>\n",
       "      <td>0</td>\n",
       "      <td>luxury</td>\n",
       "    </tr>\n",
       "    <tr>\n",
       "      <th>8</th>\n",
       "      <td>0.026380</td>\n",
       "      <td>0.039955</td>\n",
       "      <td>0.012022</td>\n",
       "      <td>0.039749</td>\n",
       "      <td>0.044159</td>\n",
       "      <td>0.030555</td>\n",
       "      <td>0.037209</td>\n",
       "      <td>0.065213</td>\n",
       "      <td>0.368338</td>\n",
       "      <td>0.145198</td>\n",
       "      <td>...</td>\n",
       "      <td>0.606836</td>\n",
       "      <td>0.531046</td>\n",
       "      <td>1.405280</td>\n",
       "      <td>0.855483</td>\n",
       "      <td>2.139097</td>\n",
       "      <td>1.069723</td>\n",
       "      <td>1.764134</td>\n",
       "      <td>0.841260</td>\n",
       "      <td>3</td>\n",
       "      <td>reuse</td>\n",
       "    </tr>\n",
       "    <tr>\n",
       "      <th>9</th>\n",
       "      <td>0.468553</td>\n",
       "      <td>0.417825</td>\n",
       "      <td>0.672447</td>\n",
       "      <td>0.816239</td>\n",
       "      <td>0.905006</td>\n",
       "      <td>0.792113</td>\n",
       "      <td>0.889584</td>\n",
       "      <td>1.002829</td>\n",
       "      <td>1.024538</td>\n",
       "      <td>0.988905</td>\n",
       "      <td>...</td>\n",
       "      <td>0.840603</td>\n",
       "      <td>0.777464</td>\n",
       "      <td>1.144721</td>\n",
       "      <td>1.134494</td>\n",
       "      <td>1.364655</td>\n",
       "      <td>1.078204</td>\n",
       "      <td>1.248130</td>\n",
       "      <td>0.982613</td>\n",
       "      <td>0</td>\n",
       "      <td>sport</td>\n",
       "    </tr>\n",
       "    <tr>\n",
       "      <th>10</th>\n",
       "      <td>0.625915</td>\n",
       "      <td>0.649766</td>\n",
       "      <td>0.893216</td>\n",
       "      <td>0.897718</td>\n",
       "      <td>1.124977</td>\n",
       "      <td>0.915859</td>\n",
       "      <td>0.928691</td>\n",
       "      <td>1.040516</td>\n",
       "      <td>0.967036</td>\n",
       "      <td>0.888103</td>\n",
       "      <td>...</td>\n",
       "      <td>0.826421</td>\n",
       "      <td>0.789548</td>\n",
       "      <td>1.042745</td>\n",
       "      <td>1.046566</td>\n",
       "      <td>1.158659</td>\n",
       "      <td>0.989531</td>\n",
       "      <td>0.826370</td>\n",
       "      <td>0.666122</td>\n",
       "      <td>0</td>\n",
       "      <td>super</td>\n",
       "    </tr>\n",
       "  </tbody>\n",
       "</table>\n",
       "<p>11 rows × 46 columns</p>\n",
       "</div>"
      ],
      "text/plain": [
       "           0         1         2         3         4         5         6  \\\n",
       "0   0.249406  0.245233  0.381292  0.406804  0.521477  0.476173  0.598916   \n",
       "1   0.514179  0.497410  0.801934  0.794940  0.989710  0.885678  0.945538   \n",
       "2   0.507212  0.503732  0.711167  0.689224  0.802550  0.699252  0.746717   \n",
       "3   0.810121  0.479086  0.833744  0.807134  1.091745  0.766043  0.967155   \n",
       "4   0.740460  0.779520  1.072831  0.870756  1.901311  1.453223  0.951684   \n",
       "5   0.462411  0.389008  0.561144  0.573865  0.755100  0.709944  0.640062   \n",
       "6   0.383503  0.454519  0.754382  0.659949  0.811681  0.511833  0.737278   \n",
       "7   0.405010  0.364503  0.471711  0.552306  0.844717  0.799399  0.958435   \n",
       "8   0.026380  0.039955  0.012022  0.039749  0.044159  0.030555  0.037209   \n",
       "9   0.468553  0.417825  0.672447  0.816239  0.905006  0.792113  0.889584   \n",
       "10  0.625915  0.649766  0.893216  0.897718  1.124977  0.915859  0.928691   \n",
       "\n",
       "           7         8         9     ...            36        37        38  \\\n",
       "0   0.800796  0.854124  0.806018     ...      1.506733  1.022595  1.570512   \n",
       "1   1.037768  1.169958  1.028200     ...      0.871925  0.761218  1.134443   \n",
       "2   0.922878  0.987169  0.812400     ...      0.960454  0.915094  1.284059   \n",
       "3   1.069489  1.369350  0.996393     ...      0.745128  0.777812  1.161200   \n",
       "4   1.654067  0.987090  2.522006     ...      0.424614  0.424016  0.709601   \n",
       "5   0.720007  0.638966  0.646268     ...      1.323180  1.132400  1.505708   \n",
       "6   0.749696  1.538689  0.793609     ...      0.815077  0.732067  1.240926   \n",
       "7   1.064241  1.805201  1.187265     ...      0.773796  0.716499  1.120115   \n",
       "8   0.065213  0.368338  0.145198     ...      0.606836  0.531046  1.405280   \n",
       "9   1.002829  1.024538  0.988905     ...      0.840603  0.777464  1.144721   \n",
       "10  1.040516  0.967036  0.888103     ...      0.826421  0.789548  1.042745   \n",
       "\n",
       "          39        40        41        42        43  cluster_id        name  \n",
       "0   1.454965  1.372888  1.137522  1.082557  3.242040           1  appliances  \n",
       "1   1.089315  1.285138  1.070732  0.949158  0.860731           0  department  \n",
       "2   1.149731  1.293754  1.116066  1.078306  1.037240           0        drug  \n",
       "3   1.192672  1.268724  1.029989  0.913623  0.816439           0     fashion  \n",
       "4   0.502884  0.808573  0.385701  0.507892  0.428269           2      flower  \n",
       "5   1.403296  1.671309  1.579014  1.618378  1.333746           0        food  \n",
       "6   1.311251  1.351613  1.012892  1.041051  0.888069           0        home  \n",
       "7   0.953670  1.297609  0.808041  0.680093  0.577685           0      luxury  \n",
       "8   0.855483  2.139097  1.069723  1.764134  0.841260           3       reuse  \n",
       "9   1.134494  1.364655  1.078204  1.248130  0.982613           0       sport  \n",
       "10  1.046566  1.158659  0.989531  0.826370  0.666122           0       super  \n",
       "\n",
       "[11 rows x 46 columns]"
      ]
     },
<<<<<<< HEAD:k-means.ipynb
     "execution_count": 59,
=======
     "execution_count": 9,
>>>>>>> 9cd83f0fa087de1f845f1e62e816259573e3244c:Analysis_base.ipynb
     "metadata": {},
     "output_type": "execute_result"
    }
   ],
   "source": [
    "df"
   ]
  },
  {
   "cell_type": "code",
   "execution_count": 81,
   "metadata": {},
   "outputs": [
    {
     "name": "stdout",
     "output_type": "stream",
     "text": [
      "Distortion: 0.17\n"
     ]
    },
    {
     "data": {
      "image/png": "iVBORw0KGgoAAAANSUhEUgAAArsAAAF1CAYAAADoaSLbAAAABHNCSVQICAgIfAhkiAAAAAlwSFlz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\nSZIkDZbFriRJkgbrf9/A4DjsgjELAAAAAElFTkSuQmCC\n",
      "text/plain": [
       "<matplotlib.figure.Figure at 0x11cd90fd0>"
      ]
     },
     "metadata": {},
     "output_type": "display_data"
    }
   ],
   "source": [
    "from matplotlib.font_manager import FontProperties\n",
    "\n",
    "clusterinfo = pd.DataFrame()\n",
    "for i in range(4):\n",
    "    clusterinfo['cluster' + str(i)] = df[df['cluster_id'] == i].mean()\n",
    "clusterinfo = clusterinfo.drop('cluster_id')\n",
    "\n",
    "fontP = FontProperties()\n",
    "fontP.set_size('small')\n",
    " \n",
    "my_plot = clusterinfo.T.plot(kind='bar', stacked=True, title=\"Mean Value Of 4 Clusters\", figsize=(10,6))\n",
    "my_plot.set_xticklabels(my_plot.xaxis.get_majorticklabels(), rotation=0)\n",
    "my_plot.legend(loc='upper right', ncol=2, prop=fontP, bbox_to_anchor=(1.2, 1))\n",
    "\n",
    "print ('Distortion: %.2f'% km.inertia_)"
   ]
  },
  {
   "cell_type": "code",
   "execution_count": 65,
   "metadata": {},
   "outputs": [
    {
     "data": {
      "image/png": "iVBORw0KGgoAAAANSUhEUgAAAYIAAAEKCAYAAAAfGVI8AAAABHNCSVQICAgIfAhkiAAAAAlwSFlz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\nORWBiEiS+//S+k3G0Um1XQAAAABJRU5ErkJggg==\n",
      "text/plain": [
       "<matplotlib.figure.Figure at 0x11ba59208>"
      ]
     },
     "metadata": {},
     "output_type": "display_data"
    }
   ],
   "source": [
    "distortions = []\n",
    "\n",
    "for i  in range(1,11):                # 1~10クラスタまで一気に計算 \n",
    "    km = KMeans(n_clusters=i,\n",
    "                init='k-means++',     # k-means++法によりクラスタ中心を選択\n",
    "                n_init=10,\n",
    "                max_iter=300,\n",
    "                random_state=0)\n",
    "    km.fit(array)                         # クラスタリングの計算を実行\n",
    "    distortions.append(km.inertia_)   # km.fitするとkm.inertia_が得られる\n",
    "\n",
    "plt.plot(range(1,11),distortions)\n",
    "plt.xlabel('Number of clusters')\n",
    "plt.ylabel('Distortion')\n",
    "plt.show()"
   ]
  },
  {
   "cell_type": "code",
   "execution_count": null,
   "metadata": {
    "collapsed": true
   },
   "outputs": [],
   "source": []
  }
 ],
 "metadata": {
  "kernelspec": {
   "display_name": "Python 3",
   "language": "python",
   "name": "python3"
  },
  "language_info": {
   "codemirror_mode": {
    "name": "ipython",
    "version": 3
   },
   "file_extension": ".py",
   "mimetype": "text/x-python",
   "name": "python",
   "nbconvert_exporter": "python",
   "pygments_lexer": "ipython3",
   "version": "3.6.0"
  }
 },
 "nbformat": 4,
 "nbformat_minor": 2
}
