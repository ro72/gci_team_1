{
 "cells": [
  {
   "cell_type": "code",
   "execution_count": 41,
   "metadata": {},
   "outputs": [],
   "source": [
    "import numpy as np\n",
    "\n",
    "def cos_sim(v1, v2):\n",
    "    return np.dot(v1, v2) / (np.linalg.norm(v1) * np.linalg.norm(v2))"
   ]
  },
  {
   "cell_type": "code",
   "execution_count": 42,
   "metadata": {},
   "outputs": [],
   "source": [
    "import os\n",
    "filelist = os.listdir(\"credit_card/\")"
   ]
  },
  {
   "cell_type": "code",
   "execution_count": 43,
   "metadata": {},
   "outputs": [
    {
     "name": "stdout",
     "output_type": "stream",
     "text": [
      "アメリカ合衆国 appliances.csv 44\n",
      "オーストラリア appliances.csv 44\n",
      "台湾 appliances.csv 44\n",
      "中華人民共和国 appliances.csv 44\n",
      "タイ appliances.csv 44\n",
      "香港 appliances.csv 44\n",
      "大韓民国 appliances.csv 44\n",
      "シンガポール appliances.csv 44\n",
      "アメリカ合衆国 departmentstore.csv 44\n",
      "オーストラリア departmentstore.csv 44\n",
      "中華人民共和国 departmentstore.csv 44\n",
      "大韓民国 departmentstore.csv 44\n",
      "台湾 departmentstore.csv 44\n",
      "香港 departmentstore.csv 44\n",
      "タイ departmentstore.csv 44\n",
      "シンガポール departmentstore.csv 44\n",
      "アメリカ合衆国 fashion.csv 44\n",
      "オーストラリア fashion.csv 44\n",
      "中華人民共和国 fashion.csv 44\n",
      "大韓民国 fashion.csv 44\n",
      "台湾 fashion.csv 44\n",
      "香港 fashion.csv 44\n",
      "タイ fashion.csv 44\n",
      "シンガポール fashion.csv 44\n",
      "アメリカ合衆国 flowershop.csv 44\n",
      "オーストラリア flowershop.csv 44\n",
      "中華人民共和国 flowershop.csv 44\n",
      "大韓民国 flowershop.csv 44\n",
      "台湾 flowershop.csv 44\n",
      "香港 flowershop.csv 44\n",
      "シンガポール flowershop.csv 44\n",
      "アメリカ合衆国 food.csv 44\n",
      "オーストラリア food.csv 44\n",
      "中華人民共和国 food.csv 44\n",
      "大韓民国 food.csv 44\n",
      "台湾 food.csv 44\n",
      "香港 food.csv 44\n",
      "タイ food.csv 44\n",
      "シンガポール food.csv 44\n",
      "アメリカ合衆国 home_goods.csv 44\n",
      "オーストラリア home_goods.csv 44\n",
      "中華人民共和国 home_goods.csv 44\n",
      "大韓民国 home_goods.csv 44\n",
      "台湾 home_goods.csv 44\n",
      "香港 home_goods.csv 44\n",
      "タイ home_goods.csv 44\n",
      "シンガポール home_goods.csv 44\n",
      "アメリカ合衆国 luxury.csv 44\n",
      "オーストラリア luxury.csv 44\n",
      "中華人民共和国 luxury.csv 44\n",
      "大韓民国 luxury.csv 44\n",
      "台湾 luxury.csv 44\n",
      "香港 luxury.csv 44\n",
      "タイ luxury.csv 44\n",
      "シンガポール luxury.csv 44\n",
      "アメリカ合衆国 reuse.csv 44\n",
      "オーストラリア reuse.csv 44\n",
      "中華人民共和国 reuse.csv 44\n",
      "大韓民国 reuse.csv 44\n",
      "台湾 reuse.csv 44\n",
      "香港 reuse.csv 44\n",
      "タイ reuse.csv 44\n",
      "シンガポール reuse.csv 44\n",
      "アメリカ合衆国 sport.csv 44\n",
      "オーストラリア sport.csv 44\n",
      "中華人民共和国 sport.csv 44\n",
      "大韓民国 sport.csv 44\n",
      "台湾 sport.csv 44\n",
      "香港 sport.csv 44\n",
      "タイ sport.csv 44\n",
      "シンガポール sport.csv 44\n",
      "アメリカ合衆国 supermarket.csv 44\n",
      "オーストラリア supermarket.csv 44\n",
      "中華人民共和国 supermarket.csv 44\n",
      "大韓民国 supermarket.csv 44\n",
      "香港 supermarket.csv 44\n",
      "台湾 supermarket.csv 44\n",
      "タイ supermarket.csv 44\n",
      "シンガポール supermarket.csv 44\n"
     ]
    }
   ],
   "source": [
    "#!/usr/bin/python\n",
    "# -*- coding: utf-8 -*-\n",
    "\n",
    "import json\n",
    "import numpy as np\n",
    "import pandas as pd\n",
    "import matplotlib.pyplot as plt\n",
    "from matplotlib.font_manager import FontProperties\n",
    "\n",
    "fp = FontProperties(fname='C:\\Windows\\Fonts\\meiryo.ttc', size=14)\n",
    "\n",
    "# 1月あたり旅行者\n",
    "tourlist_dic={}\n",
    "for year in range(2012,2017):\n",
    "    with open(\"tourists_number/FY%d\"%year,\"r\",encoding=\"utf-8\") as f:\n",
    "        dic = json.load(f)\n",
    "    for countryData in dic[\"result\"][\"changes\"]:\n",
    "        country = countryData[\"countryName\"]\n",
    "        for i in range(len(countryData[\"data\"])):\n",
    "            num_qt = countryData[\"data\"][i]\n",
    "            if num_qt[\"year\"] == year:\n",
    "                if year == 2012:\n",
    "                    if num_qt[\"quarter\"] > 2:\n",
    "                        if num_qt[\"quarter\"] == 3:\n",
    "                            iteration = 2\n",
    "                        elif num_qt[\"quarter\"] == 4:\n",
    "                            iteration = 3\n",
    "                        num_m = num_qt[\"value\"]/3\n",
    "                        for i in range(iteration):\n",
    "                            try:\n",
    "                                tourlist_dic[country].append(num_m)\n",
    "                            except:\n",
    "                                tourlist_dic[country] = [num_m]\n",
    "                elif year == 2016:\n",
    "                    if num_qt[\"quarter\"] == 1:\n",
    "                        num_m = num_qt[\"value\"]/3\n",
    "                        for i in range(3):\n",
    "                            try:\n",
    "                                tourlist_dic[country].append(num_m)\n",
    "                            except:\n",
    "                                tourlist_dic[country] = [num_m]\n",
    "                else:\n",
    "                    num_m = num_qt[\"value\"]/3\n",
    "                    for i in range(3):\n",
    "                        try:\n",
    "                            tourlist_dic[country].append(num_m)\n",
    "                        except:\n",
    "                            tourlist_dic[country] = [num_m]\n",
    "for k,v in tourlist_dic.items():\n",
    "    tourlist_dic[k] = np.array(v)\n",
    "            \n",
    "arr_dic={}        \n",
    "for csvfile in filelist:\n",
    "    empty = True\n",
    "    try:\n",
    "        # 1月あたり消費\n",
    "        df = pd.read_csv(\"credit_card/%s\"%csvfile, index_col=0)\n",
    "        df = df.dropna(axis=1)\n",
    "        for country in df:\n",
    "            if country != \"インドネシア\":\n",
    "                # 消費額\n",
    "                sr_perone = df[country] / tourlist_dic[country]\n",
    "                ar_perone = np.array(sr_perone)\n",
    "                print(country,csvfile,len(ar_perone))\n",
    "                if empty:\n",
    "                    arr_dic[csvfile] = ar_perone\n",
    "                    empty = False\n",
    "                else:\n",
    "                    arr_dic[csvfile] = np.concatenate((arr_dic[csvfile],ar_perone))\n",
    "    except:\n",
    "        pass"
   ]
  },
  {
   "cell_type": "code",
   "execution_count": 45,
   "metadata": {},
   "outputs": [
    {
     "data": {
      "text/plain": [
       "(352,)"
      ]
     },
     "execution_count": 45,
     "metadata": {},
     "output_type": "execute_result"
    }
   ],
   "source": [
    "arr_dic['food.csv'].shape"
   ]
  },
  {
   "cell_type": "code",
   "execution_count": 46,
   "metadata": {},
   "outputs": [
    {
     "data": {
      "text/plain": [
       "0.95995067159374958"
      ]
     },
     "execution_count": 46,
     "metadata": {},
     "output_type": "execute_result"
    }
   ],
   "source": [
    "cos_sim(arr_dic['departmentstore.csv'],arr_dic['sport.csv'])"
   ]
  },
  {
   "cell_type": "code",
   "execution_count": 47,
   "metadata": {},
   "outputs": [
    {
     "name": "stdout",
     "output_type": "stream",
     "text": [
      "appliances.csv flowershop.csv\n",
      "departmentstore.csv flowershop.csv\n",
      "fashion.csv flowershop.csv\n",
      "flowershop.csv food.csv\n",
      "flowershop.csv home_goods.csv\n",
      "flowershop.csv luxury.csv\n",
      "flowershop.csv reuse.csv\n",
      "flowershop.csv sport.csv\n",
      "flowershop.csv supermarket.csv\n"
     ]
    }
   ],
   "source": [
    "done_list = []\n",
    "dic_cos_sim = {}\n",
    "for k1,v1 in arr_dic.items():\n",
    "    done_list.append(k1)\n",
    "    for k2,v2 in arr_dic.items():\n",
    "        if not (k2 in done_list):\n",
    "            try:\n",
    "                dic_cos_sim[\"%s-%s\"%(k1,k2)] = cos_sim(v1,v2)\n",
    "            except:\n",
    "                print(k1,k2)"
   ]
  },
  {
   "cell_type": "code",
   "execution_count": 48,
   "metadata": {},
   "outputs": [
    {
     "data": {
      "text/plain": [
       "{'appliances.csv-departmentstore.csv': 0.7154005867248453,\n",
       " 'appliances.csv-fashion.csv': 0.63187539158288653,\n",
       " 'appliances.csv-food.csv': 0.67887883125702642,\n",
       " 'appliances.csv-home_goods.csv': 0.5498557082969675,\n",
       " 'appliances.csv-luxury.csv': 0.51229676939436852,\n",
       " 'appliances.csv-reuse.csv': 0.26731245772662815,\n",
       " 'appliances.csv-sport.csv': 0.67328612557588952,\n",
       " 'appliances.csv-supermarket.csv': 0.71874981460722454,\n",
       " 'departmentstore.csv-fashion.csv': 0.9211792469279706,\n",
       " 'departmentstore.csv-food.csv': 0.69884897459175921,\n",
       " 'departmentstore.csv-home_goods.csv': 0.72960291975788061,\n",
       " 'departmentstore.csv-luxury.csv': 0.90358101839763594,\n",
       " 'departmentstore.csv-reuse.csv': 0.60668570812495359,\n",
       " 'departmentstore.csv-sport.csv': 0.95995067159374958,\n",
       " 'departmentstore.csv-supermarket.csv': 0.85911676984225671,\n",
       " 'fashion.csv-food.csv': 0.60201761948297638,\n",
       " 'fashion.csv-home_goods.csv': 0.65720923998974312,\n",
       " 'fashion.csv-luxury.csv': 0.83883661637180662,\n",
       " 'fashion.csv-reuse.csv': 0.54769240932962848,\n",
       " 'fashion.csv-sport.csv': 0.89354913170577377,\n",
       " 'fashion.csv-supermarket.csv': 0.78760696323910473,\n",
       " 'food.csv-home_goods.csv': 0.72240554516557687,\n",
       " 'food.csv-luxury.csv': 0.50693343684280701,\n",
       " 'food.csv-reuse.csv': 0.33262011198300939,\n",
       " 'food.csv-sport.csv': 0.6944651149110701,\n",
       " 'food.csv-supermarket.csv': 0.81065090092587655,\n",
       " 'home_goods.csv-luxury.csv': 0.62005222620014244,\n",
       " 'home_goods.csv-reuse.csv': 0.41901258474215203,\n",
       " 'home_goods.csv-sport.csv': 0.71473710382463429,\n",
       " 'home_goods.csv-supermarket.csv': 0.70326681982236416,\n",
       " 'luxury.csv-reuse.csv': 0.67684199557418001,\n",
       " 'luxury.csv-sport.csv': 0.84722787408253053,\n",
       " 'luxury.csv-supermarket.csv': 0.71333051310939133,\n",
       " 'reuse.csv-sport.csv': 0.61883976705226806,\n",
       " 'reuse.csv-supermarket.csv': 0.48851826870444742,\n",
       " 'sport.csv-supermarket.csv': 0.81508679052743171}"
      ]
     },
     "execution_count": 48,
     "metadata": {},
     "output_type": "execute_result"
    }
   ],
   "source": [
    "dic_cos_sim"
   ]
  },
  {
   "cell_type": "code",
   "execution_count": 49,
   "metadata": {
    "collapsed": true
   },
   "outputs": [],
   "source": [
    "sr_cos_sim=pd.Series(dic_cos_sim)"
   ]
  },
  {
   "cell_type": "code",
   "execution_count": 50,
   "metadata": {},
   "outputs": [
    {
     "data": {
      "text/plain": [
       "appliances.csv-reuse.csv               0.267312\n",
       "food.csv-reuse.csv                     0.332620\n",
       "home_goods.csv-reuse.csv               0.419013\n",
       "reuse.csv-supermarket.csv              0.488518\n",
       "food.csv-luxury.csv                    0.506933\n",
       "appliances.csv-luxury.csv              0.512297\n",
       "fashion.csv-reuse.csv                  0.547692\n",
       "appliances.csv-home_goods.csv          0.549856\n",
       "fashion.csv-food.csv                   0.602018\n",
       "departmentstore.csv-reuse.csv          0.606686\n",
       "reuse.csv-sport.csv                    0.618840\n",
       "home_goods.csv-luxury.csv              0.620052\n",
       "appliances.csv-fashion.csv             0.631875\n",
       "fashion.csv-home_goods.csv             0.657209\n",
       "appliances.csv-sport.csv               0.673286\n",
       "luxury.csv-reuse.csv                   0.676842\n",
       "appliances.csv-food.csv                0.678879\n",
       "food.csv-sport.csv                     0.694465\n",
       "departmentstore.csv-food.csv           0.698849\n",
       "home_goods.csv-supermarket.csv         0.703267\n",
       "luxury.csv-supermarket.csv             0.713331\n",
       "home_goods.csv-sport.csv               0.714737\n",
       "appliances.csv-departmentstore.csv     0.715401\n",
       "appliances.csv-supermarket.csv         0.718750\n",
       "food.csv-home_goods.csv                0.722406\n",
       "departmentstore.csv-home_goods.csv     0.729603\n",
       "fashion.csv-supermarket.csv            0.787607\n",
       "food.csv-supermarket.csv               0.810651\n",
       "sport.csv-supermarket.csv              0.815087\n",
       "fashion.csv-luxury.csv                 0.838837\n",
       "luxury.csv-sport.csv                   0.847228\n",
       "departmentstore.csv-supermarket.csv    0.859117\n",
       "fashion.csv-sport.csv                  0.893549\n",
       "departmentstore.csv-luxury.csv         0.903581\n",
       "departmentstore.csv-fashion.csv        0.921179\n",
       "departmentstore.csv-sport.csv          0.959951\n",
       "dtype: float64"
      ]
     },
     "execution_count": 50,
     "metadata": {},
     "output_type": "execute_result"
    }
   ],
   "source": [
    "sr_cos_sim.sort_values()"
   ]
  },
  {
   "cell_type": "code",
   "execution_count": null,
   "metadata": {
    "collapsed": true
   },
   "outputs": [],
   "source": []
  }
 ],
 "metadata": {
  "kernelspec": {
   "display_name": "Python 3",
   "language": "python",
   "name": "python3"
  },
  "language_info": {
   "codemirror_mode": {
    "name": "ipython",
    "version": 3
   },
   "file_extension": ".py",
   "mimetype": "text/x-python",
   "name": "python",
   "nbconvert_exporter": "python",
   "pygments_lexer": "ipython3",
   "version": "3.6.3"
  }
 },
 "nbformat": 4,
 "nbformat_minor": 2
}
